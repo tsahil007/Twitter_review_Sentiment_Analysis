{
 "cells": [
  {
   "cell_type": "markdown",
   "metadata": {},
   "source": [
    "# <h2 align='center'> Twitter Sentiment analysis </h2>"
   ]
  },
  {
   "cell_type": "markdown",
   "metadata": {},
   "source": [
    "### We will collect text data using Twitter API."
   ]
  },
  {
   "cell_type": "raw",
   "metadata": {},
   "source": [
    "!pip install tweepy\n",
    "!pip install openpyxl\n",
    "!pip install textblob"
   ]
  },
  {
   "cell_type": "markdown",
   "metadata": {},
   "source": [
    "### Importing essentials modules"
   ]
  },
  {
   "cell_type": "code",
   "execution_count": 1,
   "metadata": {},
   "outputs": [],
   "source": [
    "import numpy as np\n",
    "import pandas as pd\n",
    "import tweepy\n",
    "import json\n",
    "from tweepy import OAuthHandler"
   ]
  },
  {
   "cell_type": "code",
   "execution_count": 2,
   "metadata": {},
   "outputs": [],
   "source": [
    "consumer_key = \"fXmSwzkeipTghdW39zxB3dWsr\"\n",
    "consumer_secret = \"irTV34HVJQwLbEgDpTG8xXR6Yeg9P7erGuuT5EQDZxec0V4wmL\"\n",
    "access_token = \"3175726508-p9SuAEGQX9qLapP526mFjXUoJtR1awVFPF4eRE5\"\n",
    "access_token_secret = \"yFnKMI7HXJYe6MJajJcZScePD0gVXe0NAlKqvWih3aeav\""
   ]
  },
  {
   "cell_type": "code",
   "execution_count": 3,
   "metadata": {},
   "outputs": [],
   "source": [
    "auth = tweepy.OAuthHandler( consumer_key , consumer_secret )\n",
    "auth.set_access_token( access_token , access_token_secret )\n",
    "api = tweepy.API(auth)"
   ]
  },
  {
   "cell_type": "code",
   "execution_count": 4,
   "metadata": {},
   "outputs": [],
   "source": [
    "query = \"farmer's law\""
   ]
  },
  {
   "cell_type": "code",
   "execution_count": 5,
   "metadata": {},
   "outputs": [
    {
     "name": "stdout",
     "output_type": "stream",
     "text": [
      "Status(_api=<tweepy.api.API object at 0x0000021CCA17E9D0>, _json={'created_at': 'Sat Dec 12 08:00:19 +0000 2020', 'id': 1337668591966187523, 'id_str': '1337668591966187523', 'full_text': '@Astro_Healer_Sh He is super cool 😎.... at times he gets political .... which i don’t like abt him.... abt farmer’s protest video he shud explain the brighter side of the law...', 'truncated': False, 'display_text_range': [17, 177], 'entities': {'hashtags': [], 'symbols': [], 'user_mentions': [{'screen_name': 'Astro_Healer_Sh', 'name': 'Shivani', 'id': 704878518413320193, 'id_str': '704878518413320193', 'indices': [0, 16]}], 'urls': []}, 'metadata': {'iso_language_code': 'en', 'result_type': 'recent'}, 'source': '<a href=\"http://twitter.com/download/iphone\" rel=\"nofollow\">Twitter for iPhone</a>', 'in_reply_to_status_id': 1337426539118391296, 'in_reply_to_status_id_str': '1337426539118391296', 'in_reply_to_user_id': 704878518413320193, 'in_reply_to_user_id_str': '704878518413320193', 'in_reply_to_screen_name': 'Astro_Healer_Sh', 'user': {'id': 987283449500307456, 'id_str': '987283449500307456', 'name': 'TROLL NAAKA🇮🇳(Hindu)', 'screen_name': 'BusKarYede', 'location': '।।जय श्रीराम।।', 'description': 'just know that i love you, i’m proud of you and i believe in you. you ARE good enough, you ARE worth it. you’ll get through it! dm me to talk any time❤️', 'url': None, 'entities': {'description': {'urls': []}}, 'protected': False, 'followers_count': 271, 'friends_count': 1368, 'listed_count': 0, 'created_at': 'Fri Apr 20 10:54:51 +0000 2018', 'favourites_count': 2651, 'utc_offset': None, 'time_zone': None, 'geo_enabled': False, 'verified': False, 'statuses_count': 14322, 'lang': None, 'contributors_enabled': False, 'is_translator': False, 'is_translation_enabled': False, 'profile_background_color': 'F5F8FA', 'profile_background_image_url': None, 'profile_background_image_url_https': None, 'profile_background_tile': False, 'profile_image_url': 'http://pbs.twimg.com/profile_images/1295052357697404928/uz4bjYa__normal.jpg', 'profile_image_url_https': 'https://pbs.twimg.com/profile_images/1295052357697404928/uz4bjYa__normal.jpg', 'profile_banner_url': 'https://pbs.twimg.com/profile_banners/987283449500307456/1604943530', 'profile_link_color': '1DA1F2', 'profile_sidebar_border_color': 'C0DEED', 'profile_sidebar_fill_color': 'DDEEF6', 'profile_text_color': '333333', 'profile_use_background_image': True, 'has_extended_profile': True, 'default_profile': True, 'default_profile_image': False, 'following': False, 'follow_request_sent': False, 'notifications': False, 'translator_type': 'none'}, 'geo': None, 'coordinates': None, 'place': None, 'contributors': None, 'is_quote_status': False, 'retweet_count': 0, 'favorite_count': 0, 'favorited': False, 'retweeted': False, 'lang': 'en'}, created_at=datetime.datetime(2020, 12, 12, 8, 0, 19), id=1337668591966187523, id_str='1337668591966187523', full_text='@Astro_Healer_Sh He is super cool 😎.... at times he gets political .... which i don’t like abt him.... abt farmer’s protest video he shud explain the brighter side of the law...', truncated=False, display_text_range=[17, 177], entities={'hashtags': [], 'symbols': [], 'user_mentions': [{'screen_name': 'Astro_Healer_Sh', 'name': 'Shivani', 'id': 704878518413320193, 'id_str': '704878518413320193', 'indices': [0, 16]}], 'urls': []}, metadata={'iso_language_code': 'en', 'result_type': 'recent'}, source='Twitter for iPhone', source_url='http://twitter.com/download/iphone', in_reply_to_status_id=1337426539118391296, in_reply_to_status_id_str='1337426539118391296', in_reply_to_user_id=704878518413320193, in_reply_to_user_id_str='704878518413320193', in_reply_to_screen_name='Astro_Healer_Sh', author=User(_api=<tweepy.api.API object at 0x0000021CCA17E9D0>, _json={'id': 987283449500307456, 'id_str': '987283449500307456', 'name': 'TROLL NAAKA🇮🇳(Hindu)', 'screen_name': 'BusKarYede', 'location': '।।जय श्रीराम।।', 'description': 'just know that i love you, i’m proud of you and i believe in you. you ARE good enough, you ARE worth it. you’ll get through it! dm me to talk any time❤️', 'url': None, 'entities': {'description': {'urls': []}}, 'protected': False, 'followers_count': 271, 'friends_count': 1368, 'listed_count': 0, 'created_at': 'Fri Apr 20 10:54:51 +0000 2018', 'favourites_count': 2651, 'utc_offset': None, 'time_zone': None, 'geo_enabled': False, 'verified': False, 'statuses_count': 14322, 'lang': None, 'contributors_enabled': False, 'is_translator': False, 'is_translation_enabled': False, 'profile_background_color': 'F5F8FA', 'profile_background_image_url': None, 'profile_background_image_url_https': None, 'profile_background_tile': False, 'profile_image_url': 'http://pbs.twimg.com/profile_images/1295052357697404928/uz4bjYa__normal.jpg', 'profile_image_url_https': 'https://pbs.twimg.com/profile_images/1295052357697404928/uz4bjYa__normal.jpg', 'profile_banner_url': 'https://pbs.twimg.com/profile_banners/987283449500307456/1604943530', 'profile_link_color': '1DA1F2', 'profile_sidebar_border_color': 'C0DEED', 'profile_sidebar_fill_color': 'DDEEF6', 'profile_text_color': '333333', 'profile_use_background_image': True, 'has_extended_profile': True, 'default_profile': True, 'default_profile_image': False, 'following': False, 'follow_request_sent': False, 'notifications': False, 'translator_type': 'none'}, id=987283449500307456, id_str='987283449500307456', name='TROLL NAAKA🇮🇳(Hindu)', screen_name='BusKarYede', location='।।जय श्रीराम।।', description='just know that i love you, i’m proud of you and i believe in you. you ARE good enough, you ARE worth it. you’ll get through it! dm me to talk any time❤️', url=None, entities={'description': {'urls': []}}, protected=False, followers_count=271, friends_count=1368, listed_count=0, created_at=datetime.datetime(2018, 4, 20, 10, 54, 51), favourites_count=2651, utc_offset=None, time_zone=None, geo_enabled=False, verified=False, statuses_count=14322, lang=None, contributors_enabled=False, is_translator=False, is_translation_enabled=False, profile_background_color='F5F8FA', profile_background_image_url=None, profile_background_image_url_https=None, profile_background_tile=False, profile_image_url='http://pbs.twimg.com/profile_images/1295052357697404928/uz4bjYa__normal.jpg', profile_image_url_https='https://pbs.twimg.com/profile_images/1295052357697404928/uz4bjYa__normal.jpg', profile_banner_url='https://pbs.twimg.com/profile_banners/987283449500307456/1604943530', profile_link_color='1DA1F2', profile_sidebar_border_color='C0DEED', profile_sidebar_fill_color='DDEEF6', profile_text_color='333333', profile_use_background_image=True, has_extended_profile=True, default_profile=True, default_profile_image=False, following=False, follow_request_sent=False, notifications=False, translator_type='none'), user=User(_api=<tweepy.api.API object at 0x0000021CCA17E9D0>, _json={'id': 987283449500307456, 'id_str': '987283449500307456', 'name': 'TROLL NAAKA🇮🇳(Hindu)', 'screen_name': 'BusKarYede', 'location': '।।जय श्रीराम।।', 'description': 'just know that i love you, i’m proud of you and i believe in you. you ARE good enough, you ARE worth it. you’ll get through it! dm me to talk any time❤️', 'url': None, 'entities': {'description': {'urls': []}}, 'protected': False, 'followers_count': 271, 'friends_count': 1368, 'listed_count': 0, 'created_at': 'Fri Apr 20 10:54:51 +0000 2018', 'favourites_count': 2651, 'utc_offset': None, 'time_zone': None, 'geo_enabled': False, 'verified': False, 'statuses_count': 14322, 'lang': None, 'contributors_enabled': False, 'is_translator': False, 'is_translation_enabled': False, 'profile_background_color': 'F5F8FA', 'profile_background_image_url': None, 'profile_background_image_url_https': None, 'profile_background_tile': False, 'profile_image_url': 'http://pbs.twimg.com/profile_images/1295052357697404928/uz4bjYa__normal.jpg', 'profile_image_url_https': 'https://pbs.twimg.com/profile_images/1295052357697404928/uz4bjYa__normal.jpg', 'profile_banner_url': 'https://pbs.twimg.com/profile_banners/987283449500307456/1604943530', 'profile_link_color': '1DA1F2', 'profile_sidebar_border_color': 'C0DEED', 'profile_sidebar_fill_color': 'DDEEF6', 'profile_text_color': '333333', 'profile_use_background_image': True, 'has_extended_profile': True, 'default_profile': True, 'default_profile_image': False, 'following': False, 'follow_request_sent': False, 'notifications': False, 'translator_type': 'none'}, id=987283449500307456, id_str='987283449500307456', name='TROLL NAAKA🇮🇳(Hindu)', screen_name='BusKarYede', location='।।जय श्रीराम।।', description='just know that i love you, i’m proud of you and i believe in you. you ARE good enough, you ARE worth it. you’ll get through it! dm me to talk any time❤️', url=None, entities={'description': {'urls': []}}, protected=False, followers_count=271, friends_count=1368, listed_count=0, created_at=datetime.datetime(2018, 4, 20, 10, 54, 51), favourites_count=2651, utc_offset=None, time_zone=None, geo_enabled=False, verified=False, statuses_count=14322, lang=None, contributors_enabled=False, is_translator=False, is_translation_enabled=False, profile_background_color='F5F8FA', profile_background_image_url=None, profile_background_image_url_https=None, profile_background_tile=False, profile_image_url='http://pbs.twimg.com/profile_images/1295052357697404928/uz4bjYa__normal.jpg', profile_image_url_https='https://pbs.twimg.com/profile_images/1295052357697404928/uz4bjYa__normal.jpg', profile_banner_url='https://pbs.twimg.com/profile_banners/987283449500307456/1604943530', profile_link_color='1DA1F2', profile_sidebar_border_color='C0DEED', profile_sidebar_fill_color='DDEEF6', profile_text_color='333333', profile_use_background_image=True, has_extended_profile=True, default_profile=True, default_profile_image=False, following=False, follow_request_sent=False, notifications=False, translator_type='none'), geo=None, coordinates=None, place=None, contributors=None, is_quote_status=False, retweet_count=0, favorite_count=0, favorited=False, retweeted=False, lang='en') \n",
      "\n",
      ".....................................\n",
      "\n",
      "Status(_api=<tweepy.api.API object at 0x0000021CCA17E9D0>, _json={'created_at': 'Sat Dec 12 07:52:11 +0000 2020', 'id': 1337666546068582402, 'id_str': '1337666546068582402', 'full_text': \"FARMER'S  HAVE  BENEFITED  FROM  THESE  FARMERS  LAW'S. https://t.co/AqWWDIfB1i\", 'truncated': False, 'display_text_range': [0, 55], 'entities': {'hashtags': [], 'symbols': [], 'user_mentions': [], 'urls': [], 'media': [{'id': 1337666531870830592, 'id_str': '1337666531870830592', 'indices': [56, 79], 'media_url': 'http://pbs.twimg.com/media/EpBYn5wW8AAoMtD.jpg', 'media_url_https': 'https://pbs.twimg.com/media/EpBYn5wW8AAoMtD.jpg', 'url': 'https://t.co/AqWWDIfB1i', 'display_url': 'pic.twitter.com/AqWWDIfB1i', 'expanded_url': 'https://twitter.com/DavidAn73139744/status/1337666546068582402/photo/1', 'type': 'photo', 'sizes': {'thumb': {'w': 150, 'h': 150, 'resize': 'crop'}, 'small': {'w': 249, 'h': 166, 'resize': 'fit'}, 'large': {'w': 249, 'h': 166, 'resize': 'fit'}, 'medium': {'w': 249, 'h': 166, 'resize': 'fit'}}}]}, 'extended_entities': {'media': [{'id': 1337666531870830592, 'id_str': '1337666531870830592', 'indices': [56, 79], 'media_url': 'http://pbs.twimg.com/media/EpBYn5wW8AAoMtD.jpg', 'media_url_https': 'https://pbs.twimg.com/media/EpBYn5wW8AAoMtD.jpg', 'url': 'https://t.co/AqWWDIfB1i', 'display_url': 'pic.twitter.com/AqWWDIfB1i', 'expanded_url': 'https://twitter.com/DavidAn73139744/status/1337666546068582402/photo/1', 'type': 'photo', 'sizes': {'thumb': {'w': 150, 'h': 150, 'resize': 'crop'}, 'small': {'w': 249, 'h': 166, 'resize': 'fit'}, 'large': {'w': 249, 'h': 166, 'resize': 'fit'}, 'medium': {'w': 249, 'h': 166, 'resize': 'fit'}}}, {'id': 1337666535859621889, 'id_str': '1337666535859621889', 'indices': [56, 79], 'media_url': 'http://pbs.twimg.com/media/EpBYoInXEAE4lAs.jpg', 'media_url_https': 'https://pbs.twimg.com/media/EpBYoInXEAE4lAs.jpg', 'url': 'https://t.co/AqWWDIfB1i', 'display_url': 'pic.twitter.com/AqWWDIfB1i', 'expanded_url': 'https://twitter.com/DavidAn73139744/status/1337666546068582402/photo/1', 'type': 'photo', 'sizes': {'thumb': {'w': 150, 'h': 150, 'resize': 'crop'}, 'medium': {'w': 249, 'h': 166, 'resize': 'fit'}, 'large': {'w': 249, 'h': 166, 'resize': 'fit'}, 'small': {'w': 249, 'h': 166, 'resize': 'fit'}}}, {'id': 1337666539852615680, 'id_str': '1337666539852615680', 'indices': [56, 79], 'media_url': 'http://pbs.twimg.com/media/EpBYoXfXUAA9H_7.jpg', 'media_url_https': 'https://pbs.twimg.com/media/EpBYoXfXUAA9H_7.jpg', 'url': 'https://t.co/AqWWDIfB1i', 'display_url': 'pic.twitter.com/AqWWDIfB1i', 'expanded_url': 'https://twitter.com/DavidAn73139744/status/1337666546068582402/photo/1', 'type': 'photo', 'sizes': {'medium': {'w': 249, 'h': 166, 'resize': 'fit'}, 'thumb': {'w': 150, 'h': 150, 'resize': 'crop'}, 'small': {'w': 249, 'h': 166, 'resize': 'fit'}, 'large': {'w': 249, 'h': 166, 'resize': 'fit'}}}, {'id': 1337666543275151361, 'id_str': '1337666543275151361', 'indices': [56, 79], 'media_url': 'http://pbs.twimg.com/media/EpBYokPXEAEf6Ni.jpg', 'media_url_https': 'https://pbs.twimg.com/media/EpBYokPXEAEf6Ni.jpg', 'url': 'https://t.co/AqWWDIfB1i', 'display_url': 'pic.twitter.com/AqWWDIfB1i', 'expanded_url': 'https://twitter.com/DavidAn73139744/status/1337666546068582402/photo/1', 'type': 'photo', 'sizes': {'large': {'w': 249, 'h': 211, 'resize': 'fit'}, 'thumb': {'w': 150, 'h': 150, 'resize': 'crop'}, 'small': {'w': 249, 'h': 211, 'resize': 'fit'}, 'medium': {'w': 249, 'h': 211, 'resize': 'fit'}}}]}, 'metadata': {'iso_language_code': 'en', 'result_type': 'recent'}, 'source': '<a href=\"http://twitter.com/download/android\" rel=\"nofollow\">Twitter for Android</a>', 'in_reply_to_status_id': None, 'in_reply_to_status_id_str': None, 'in_reply_to_user_id': None, 'in_reply_to_user_id_str': None, 'in_reply_to_screen_name': None, 'user': {'id': 1335709915051077634, 'id_str': '1335709915051077634', 'name': 'David Antony', 'screen_name': 'DavidAn73139744', 'location': '', 'description': \"WHEN  YOU  DO  GOOD,  YOU'LL  FEEL  GOOD\", 'url': None, 'entities': {'description': {'urls': []}}, 'protected': False, 'followers_count': 5, 'friends_count': 125, 'listed_count': 0, 'created_at': 'Sun Dec 06 22:17:46 +0000 2020', 'favourites_count': 1308, 'utc_offset': None, 'time_zone': None, 'geo_enabled': False, 'verified': False, 'statuses_count': 294, 'lang': None, 'contributors_enabled': False, 'is_translator': False, 'is_translation_enabled': False, 'profile_background_color': 'F5F8FA', 'profile_background_image_url': None, 'profile_background_image_url_https': None, 'profile_background_tile': False, 'profile_image_url': 'http://pbs.twimg.com/profile_images/1335718005049880577/7AxlKGKl_normal.jpg', 'profile_image_url_https': 'https://pbs.twimg.com/profile_images/1335718005049880577/7AxlKGKl_normal.jpg', 'profile_link_color': '1DA1F2', 'profile_sidebar_border_color': 'C0DEED', 'profile_sidebar_fill_color': 'DDEEF6', 'profile_text_color': '333333', 'profile_use_background_image': True, 'has_extended_profile': False, 'default_profile': True, 'default_profile_image': False, 'following': False, 'follow_request_sent': False, 'notifications': False, 'translator_type': 'none'}, 'geo': None, 'coordinates': None, 'place': None, 'contributors': None, 'is_quote_status': False, 'retweet_count': 0, 'favorite_count': 1, 'favorited': False, 'retweeted': False, 'possibly_sensitive': False, 'lang': 'en'}, created_at=datetime.datetime(2020, 12, 12, 7, 52, 11), id=1337666546068582402, id_str='1337666546068582402', full_text=\"FARMER'S  HAVE  BENEFITED  FROM  THESE  FARMERS  LAW'S. https://t.co/AqWWDIfB1i\", truncated=False, display_text_range=[0, 55], entities={'hashtags': [], 'symbols': [], 'user_mentions': [], 'urls': [], 'media': [{'id': 1337666531870830592, 'id_str': '1337666531870830592', 'indices': [56, 79], 'media_url': 'http://pbs.twimg.com/media/EpBYn5wW8AAoMtD.jpg', 'media_url_https': 'https://pbs.twimg.com/media/EpBYn5wW8AAoMtD.jpg', 'url': 'https://t.co/AqWWDIfB1i', 'display_url': 'pic.twitter.com/AqWWDIfB1i', 'expanded_url': 'https://twitter.com/DavidAn73139744/status/1337666546068582402/photo/1', 'type': 'photo', 'sizes': {'thumb': {'w': 150, 'h': 150, 'resize': 'crop'}, 'small': {'w': 249, 'h': 166, 'resize': 'fit'}, 'large': {'w': 249, 'h': 166, 'resize': 'fit'}, 'medium': {'w': 249, 'h': 166, 'resize': 'fit'}}}]}, extended_entities={'media': [{'id': 1337666531870830592, 'id_str': '1337666531870830592', 'indices': [56, 79], 'media_url': 'http://pbs.twimg.com/media/EpBYn5wW8AAoMtD.jpg', 'media_url_https': 'https://pbs.twimg.com/media/EpBYn5wW8AAoMtD.jpg', 'url': 'https://t.co/AqWWDIfB1i', 'display_url': 'pic.twitter.com/AqWWDIfB1i', 'expanded_url': 'https://twitter.com/DavidAn73139744/status/1337666546068582402/photo/1', 'type': 'photo', 'sizes': {'thumb': {'w': 150, 'h': 150, 'resize': 'crop'}, 'small': {'w': 249, 'h': 166, 'resize': 'fit'}, 'large': {'w': 249, 'h': 166, 'resize': 'fit'}, 'medium': {'w': 249, 'h': 166, 'resize': 'fit'}}}, {'id': 1337666535859621889, 'id_str': '1337666535859621889', 'indices': [56, 79], 'media_url': 'http://pbs.twimg.com/media/EpBYoInXEAE4lAs.jpg', 'media_url_https': 'https://pbs.twimg.com/media/EpBYoInXEAE4lAs.jpg', 'url': 'https://t.co/AqWWDIfB1i', 'display_url': 'pic.twitter.com/AqWWDIfB1i', 'expanded_url': 'https://twitter.com/DavidAn73139744/status/1337666546068582402/photo/1', 'type': 'photo', 'sizes': {'thumb': {'w': 150, 'h': 150, 'resize': 'crop'}, 'medium': {'w': 249, 'h': 166, 'resize': 'fit'}, 'large': {'w': 249, 'h': 166, 'resize': 'fit'}, 'small': {'w': 249, 'h': 166, 'resize': 'fit'}}}, {'id': 1337666539852615680, 'id_str': '1337666539852615680', 'indices': [56, 79], 'media_url': 'http://pbs.twimg.com/media/EpBYoXfXUAA9H_7.jpg', 'media_url_https': 'https://pbs.twimg.com/media/EpBYoXfXUAA9H_7.jpg', 'url': 'https://t.co/AqWWDIfB1i', 'display_url': 'pic.twitter.com/AqWWDIfB1i', 'expanded_url': 'https://twitter.com/DavidAn73139744/status/1337666546068582402/photo/1', 'type': 'photo', 'sizes': {'medium': {'w': 249, 'h': 166, 'resize': 'fit'}, 'thumb': {'w': 150, 'h': 150, 'resize': 'crop'}, 'small': {'w': 249, 'h': 166, 'resize': 'fit'}, 'large': {'w': 249, 'h': 166, 'resize': 'fit'}}}, {'id': 1337666543275151361, 'id_str': '1337666543275151361', 'indices': [56, 79], 'media_url': 'http://pbs.twimg.com/media/EpBYokPXEAEf6Ni.jpg', 'media_url_https': 'https://pbs.twimg.com/media/EpBYokPXEAEf6Ni.jpg', 'url': 'https://t.co/AqWWDIfB1i', 'display_url': 'pic.twitter.com/AqWWDIfB1i', 'expanded_url': 'https://twitter.com/DavidAn73139744/status/1337666546068582402/photo/1', 'type': 'photo', 'sizes': {'large': {'w': 249, 'h': 211, 'resize': 'fit'}, 'thumb': {'w': 150, 'h': 150, 'resize': 'crop'}, 'small': {'w': 249, 'h': 211, 'resize': 'fit'}, 'medium': {'w': 249, 'h': 211, 'resize': 'fit'}}}]}, metadata={'iso_language_code': 'en', 'result_type': 'recent'}, source='Twitter for Android', source_url='http://twitter.com/download/android', in_reply_to_status_id=None, in_reply_to_status_id_str=None, in_reply_to_user_id=None, in_reply_to_user_id_str=None, in_reply_to_screen_name=None, author=User(_api=<tweepy.api.API object at 0x0000021CCA17E9D0>, _json={'id': 1335709915051077634, 'id_str': '1335709915051077634', 'name': 'David Antony', 'screen_name': 'DavidAn73139744', 'location': '', 'description': \"WHEN  YOU  DO  GOOD,  YOU'LL  FEEL  GOOD\", 'url': None, 'entities': {'description': {'urls': []}}, 'protected': False, 'followers_count': 5, 'friends_count': 125, 'listed_count': 0, 'created_at': 'Sun Dec 06 22:17:46 +0000 2020', 'favourites_count': 1308, 'utc_offset': None, 'time_zone': None, 'geo_enabled': False, 'verified': False, 'statuses_count': 294, 'lang': None, 'contributors_enabled': False, 'is_translator': False, 'is_translation_enabled': False, 'profile_background_color': 'F5F8FA', 'profile_background_image_url': None, 'profile_background_image_url_https': None, 'profile_background_tile': False, 'profile_image_url': 'http://pbs.twimg.com/profile_images/1335718005049880577/7AxlKGKl_normal.jpg', 'profile_image_url_https': 'https://pbs.twimg.com/profile_images/1335718005049880577/7AxlKGKl_normal.jpg', 'profile_link_color': '1DA1F2', 'profile_sidebar_border_color': 'C0DEED', 'profile_sidebar_fill_color': 'DDEEF6', 'profile_text_color': '333333', 'profile_use_background_image': True, 'has_extended_profile': False, 'default_profile': True, 'default_profile_image': False, 'following': False, 'follow_request_sent': False, 'notifications': False, 'translator_type': 'none'}, id=1335709915051077634, id_str='1335709915051077634', name='David Antony', screen_name='DavidAn73139744', location='', description=\"WHEN  YOU  DO  GOOD,  YOU'LL  FEEL  GOOD\", url=None, entities={'description': {'urls': []}}, protected=False, followers_count=5, friends_count=125, listed_count=0, created_at=datetime.datetime(2020, 12, 6, 22, 17, 46), favourites_count=1308, utc_offset=None, time_zone=None, geo_enabled=False, verified=False, statuses_count=294, lang=None, contributors_enabled=False, is_translator=False, is_translation_enabled=False, profile_background_color='F5F8FA', profile_background_image_url=None, profile_background_image_url_https=None, profile_background_tile=False, profile_image_url='http://pbs.twimg.com/profile_images/1335718005049880577/7AxlKGKl_normal.jpg', profile_image_url_https='https://pbs.twimg.com/profile_images/1335718005049880577/7AxlKGKl_normal.jpg', profile_link_color='1DA1F2', profile_sidebar_border_color='C0DEED', profile_sidebar_fill_color='DDEEF6', profile_text_color='333333', profile_use_background_image=True, has_extended_profile=False, default_profile=True, default_profile_image=False, following=False, follow_request_sent=False, notifications=False, translator_type='none'), user=User(_api=<tweepy.api.API object at 0x0000021CCA17E9D0>, _json={'id': 1335709915051077634, 'id_str': '1335709915051077634', 'name': 'David Antony', 'screen_name': 'DavidAn73139744', 'location': '', 'description': \"WHEN  YOU  DO  GOOD,  YOU'LL  FEEL  GOOD\", 'url': None, 'entities': {'description': {'urls': []}}, 'protected': False, 'followers_count': 5, 'friends_count': 125, 'listed_count': 0, 'created_at': 'Sun Dec 06 22:17:46 +0000 2020', 'favourites_count': 1308, 'utc_offset': None, 'time_zone': None, 'geo_enabled': False, 'verified': False, 'statuses_count': 294, 'lang': None, 'contributors_enabled': False, 'is_translator': False, 'is_translation_enabled': False, 'profile_background_color': 'F5F8FA', 'profile_background_image_url': None, 'profile_background_image_url_https': None, 'profile_background_tile': False, 'profile_image_url': 'http://pbs.twimg.com/profile_images/1335718005049880577/7AxlKGKl_normal.jpg', 'profile_image_url_https': 'https://pbs.twimg.com/profile_images/1335718005049880577/7AxlKGKl_normal.jpg', 'profile_link_color': '1DA1F2', 'profile_sidebar_border_color': 'C0DEED', 'profile_sidebar_fill_color': 'DDEEF6', 'profile_text_color': '333333', 'profile_use_background_image': True, 'has_extended_profile': False, 'default_profile': True, 'default_profile_image': False, 'following': False, 'follow_request_sent': False, 'notifications': False, 'translator_type': 'none'}, id=1335709915051077634, id_str='1335709915051077634', name='David Antony', screen_name='DavidAn73139744', location='', description=\"WHEN  YOU  DO  GOOD,  YOU'LL  FEEL  GOOD\", url=None, entities={'description': {'urls': []}}, protected=False, followers_count=5, friends_count=125, listed_count=0, created_at=datetime.datetime(2020, 12, 6, 22, 17, 46), favourites_count=1308, utc_offset=None, time_zone=None, geo_enabled=False, verified=False, statuses_count=294, lang=None, contributors_enabled=False, is_translator=False, is_translation_enabled=False, profile_background_color='F5F8FA', profile_background_image_url=None, profile_background_image_url_https=None, profile_background_tile=False, profile_image_url='http://pbs.twimg.com/profile_images/1335718005049880577/7AxlKGKl_normal.jpg', profile_image_url_https='https://pbs.twimg.com/profile_images/1335718005049880577/7AxlKGKl_normal.jpg', profile_link_color='1DA1F2', profile_sidebar_border_color='C0DEED', profile_sidebar_fill_color='DDEEF6', profile_text_color='333333', profile_use_background_image=True, has_extended_profile=False, default_profile=True, default_profile_image=False, following=False, follow_request_sent=False, notifications=False, translator_type='none'), geo=None, coordinates=None, place=None, contributors=None, is_quote_status=False, retweet_count=0, favorite_count=1, favorited=False, retweeted=False, possibly_sensitive=False, lang='en') \n",
      "\n",
      ".....................................\n",
      "\n",
      "Status(_api=<tweepy.api.API object at 0x0000021CCA17E9D0>, _json={'created_at': 'Sat Dec 12 07:39:30 +0000 2020', 'id': 1337663351254499328, 'id_str': '1337663351254499328', 'full_text': \"@ranveersiiingh Please read the proposals which was sent. On MSP, govt has said, a written assurance will be given. \\n\\nBut farmer Union's have refused the written assurance and amendments to new law.\", 'truncated': False, 'display_text_range': [16, 198], 'entities': {'hashtags': [], 'symbols': [], 'user_mentions': [{'screen_name': 'ranveersiiingh', 'name': 'Ranveer Singh', 'id': 1203250679608827904, 'id_str': '1203250679608827904', 'indices': [0, 15]}], 'urls': []}, 'metadata': {'iso_language_code': 'en', 'result_type': 'recent'}, 'source': '<a href=\"http://twitter.com/download/android\" rel=\"nofollow\">Twitter for Android</a>', 'in_reply_to_status_id': 1337662954813095936, 'in_reply_to_status_id_str': '1337662954813095936', 'in_reply_to_user_id': 1203250679608827904, 'in_reply_to_user_id_str': '1203250679608827904', 'in_reply_to_screen_name': 'ranveersiiingh', 'user': {'id': 257806640, 'id_str': '257806640', 'name': 'Heart_Juggler', 'screen_name': 'srajwadi', 'location': 'Bhagyanagar, Telangana', 'description': 'love to cook, was a hotelier by profession, a urban farmer by interest, love horse riding..:):) \\r\\n\\r\\nthe rest -- tweets will speak for itself...!!!', 'url': None, 'entities': {'description': {'urls': []}}, 'protected': False, 'followers_count': 365, 'friends_count': 1134, 'listed_count': 10, 'created_at': 'Sat Feb 26 05:51:46 +0000 2011', 'favourites_count': 28867, 'utc_offset': None, 'time_zone': None, 'geo_enabled': False, 'verified': False, 'statuses_count': 22500, 'lang': None, 'contributors_enabled': False, 'is_translator': False, 'is_translation_enabled': False, 'profile_background_color': '000000', 'profile_background_image_url': 'http://abs.twimg.com/images/themes/theme4/bg.gif', 'profile_background_image_url_https': 'https://abs.twimg.com/images/themes/theme4/bg.gif', 'profile_background_tile': False, 'profile_image_url': 'http://pbs.twimg.com/profile_images/1326752447419707395/p8qYfnMl_normal.jpg', 'profile_image_url_https': 'https://pbs.twimg.com/profile_images/1326752447419707395/p8qYfnMl_normal.jpg', 'profile_banner_url': 'https://pbs.twimg.com/profile_banners/257806640/1592405196', 'profile_link_color': '332D23', 'profile_sidebar_border_color': '4F606E', 'profile_sidebar_fill_color': '0D0806', 'profile_text_color': '544C45', 'profile_use_background_image': True, 'has_extended_profile': False, 'default_profile': False, 'default_profile_image': False, 'following': False, 'follow_request_sent': False, 'notifications': False, 'translator_type': 'none'}, 'geo': None, 'coordinates': None, 'place': None, 'contributors': None, 'is_quote_status': False, 'retweet_count': 0, 'favorite_count': 0, 'favorited': False, 'retweeted': False, 'lang': 'en'}, created_at=datetime.datetime(2020, 12, 12, 7, 39, 30), id=1337663351254499328, id_str='1337663351254499328', full_text=\"@ranveersiiingh Please read the proposals which was sent. On MSP, govt has said, a written assurance will be given. \\n\\nBut farmer Union's have refused the written assurance and amendments to new law.\", truncated=False, display_text_range=[16, 198], entities={'hashtags': [], 'symbols': [], 'user_mentions': [{'screen_name': 'ranveersiiingh', 'name': 'Ranveer Singh', 'id': 1203250679608827904, 'id_str': '1203250679608827904', 'indices': [0, 15]}], 'urls': []}, metadata={'iso_language_code': 'en', 'result_type': 'recent'}, source='Twitter for Android', source_url='http://twitter.com/download/android', in_reply_to_status_id=1337662954813095936, in_reply_to_status_id_str='1337662954813095936', in_reply_to_user_id=1203250679608827904, in_reply_to_user_id_str='1203250679608827904', in_reply_to_screen_name='ranveersiiingh', author=User(_api=<tweepy.api.API object at 0x0000021CCA17E9D0>, _json={'id': 257806640, 'id_str': '257806640', 'name': 'Heart_Juggler', 'screen_name': 'srajwadi', 'location': 'Bhagyanagar, Telangana', 'description': 'love to cook, was a hotelier by profession, a urban farmer by interest, love horse riding..:):) \\r\\n\\r\\nthe rest -- tweets will speak for itself...!!!', 'url': None, 'entities': {'description': {'urls': []}}, 'protected': False, 'followers_count': 365, 'friends_count': 1134, 'listed_count': 10, 'created_at': 'Sat Feb 26 05:51:46 +0000 2011', 'favourites_count': 28867, 'utc_offset': None, 'time_zone': None, 'geo_enabled': False, 'verified': False, 'statuses_count': 22500, 'lang': None, 'contributors_enabled': False, 'is_translator': False, 'is_translation_enabled': False, 'profile_background_color': '000000', 'profile_background_image_url': 'http://abs.twimg.com/images/themes/theme4/bg.gif', 'profile_background_image_url_https': 'https://abs.twimg.com/images/themes/theme4/bg.gif', 'profile_background_tile': False, 'profile_image_url': 'http://pbs.twimg.com/profile_images/1326752447419707395/p8qYfnMl_normal.jpg', 'profile_image_url_https': 'https://pbs.twimg.com/profile_images/1326752447419707395/p8qYfnMl_normal.jpg', 'profile_banner_url': 'https://pbs.twimg.com/profile_banners/257806640/1592405196', 'profile_link_color': '332D23', 'profile_sidebar_border_color': '4F606E', 'profile_sidebar_fill_color': '0D0806', 'profile_text_color': '544C45', 'profile_use_background_image': True, 'has_extended_profile': False, 'default_profile': False, 'default_profile_image': False, 'following': False, 'follow_request_sent': False, 'notifications': False, 'translator_type': 'none'}, id=257806640, id_str='257806640', name='Heart_Juggler', screen_name='srajwadi', location='Bhagyanagar, Telangana', description='love to cook, was a hotelier by profession, a urban farmer by interest, love horse riding..:):) \\r\\n\\r\\nthe rest -- tweets will speak for itself...!!!', url=None, entities={'description': {'urls': []}}, protected=False, followers_count=365, friends_count=1134, listed_count=10, created_at=datetime.datetime(2011, 2, 26, 5, 51, 46), favourites_count=28867, utc_offset=None, time_zone=None, geo_enabled=False, verified=False, statuses_count=22500, lang=None, contributors_enabled=False, is_translator=False, is_translation_enabled=False, profile_background_color='000000', profile_background_image_url='http://abs.twimg.com/images/themes/theme4/bg.gif', profile_background_image_url_https='https://abs.twimg.com/images/themes/theme4/bg.gif', profile_background_tile=False, profile_image_url='http://pbs.twimg.com/profile_images/1326752447419707395/p8qYfnMl_normal.jpg', profile_image_url_https='https://pbs.twimg.com/profile_images/1326752447419707395/p8qYfnMl_normal.jpg', profile_banner_url='https://pbs.twimg.com/profile_banners/257806640/1592405196', profile_link_color='332D23', profile_sidebar_border_color='4F606E', profile_sidebar_fill_color='0D0806', profile_text_color='544C45', profile_use_background_image=True, has_extended_profile=False, default_profile=False, default_profile_image=False, following=False, follow_request_sent=False, notifications=False, translator_type='none'), user=User(_api=<tweepy.api.API object at 0x0000021CCA17E9D0>, _json={'id': 257806640, 'id_str': '257806640', 'name': 'Heart_Juggler', 'screen_name': 'srajwadi', 'location': 'Bhagyanagar, Telangana', 'description': 'love to cook, was a hotelier by profession, a urban farmer by interest, love horse riding..:):) \\r\\n\\r\\nthe rest -- tweets will speak for itself...!!!', 'url': None, 'entities': {'description': {'urls': []}}, 'protected': False, 'followers_count': 365, 'friends_count': 1134, 'listed_count': 10, 'created_at': 'Sat Feb 26 05:51:46 +0000 2011', 'favourites_count': 28867, 'utc_offset': None, 'time_zone': None, 'geo_enabled': False, 'verified': False, 'statuses_count': 22500, 'lang': None, 'contributors_enabled': False, 'is_translator': False, 'is_translation_enabled': False, 'profile_background_color': '000000', 'profile_background_image_url': 'http://abs.twimg.com/images/themes/theme4/bg.gif', 'profile_background_image_url_https': 'https://abs.twimg.com/images/themes/theme4/bg.gif', 'profile_background_tile': False, 'profile_image_url': 'http://pbs.twimg.com/profile_images/1326752447419707395/p8qYfnMl_normal.jpg', 'profile_image_url_https': 'https://pbs.twimg.com/profile_images/1326752447419707395/p8qYfnMl_normal.jpg', 'profile_banner_url': 'https://pbs.twimg.com/profile_banners/257806640/1592405196', 'profile_link_color': '332D23', 'profile_sidebar_border_color': '4F606E', 'profile_sidebar_fill_color': '0D0806', 'profile_text_color': '544C45', 'profile_use_background_image': True, 'has_extended_profile': False, 'default_profile': False, 'default_profile_image': False, 'following': False, 'follow_request_sent': False, 'notifications': False, 'translator_type': 'none'}, id=257806640, id_str='257806640', name='Heart_Juggler', screen_name='srajwadi', location='Bhagyanagar, Telangana', description='love to cook, was a hotelier by profession, a urban farmer by interest, love horse riding..:):) \\r\\n\\r\\nthe rest -- tweets will speak for itself...!!!', url=None, entities={'description': {'urls': []}}, protected=False, followers_count=365, friends_count=1134, listed_count=10, created_at=datetime.datetime(2011, 2, 26, 5, 51, 46), favourites_count=28867, utc_offset=None, time_zone=None, geo_enabled=False, verified=False, statuses_count=22500, lang=None, contributors_enabled=False, is_translator=False, is_translation_enabled=False, profile_background_color='000000', profile_background_image_url='http://abs.twimg.com/images/themes/theme4/bg.gif', profile_background_image_url_https='https://abs.twimg.com/images/themes/theme4/bg.gif', profile_background_tile=False, profile_image_url='http://pbs.twimg.com/profile_images/1326752447419707395/p8qYfnMl_normal.jpg', profile_image_url_https='https://pbs.twimg.com/profile_images/1326752447419707395/p8qYfnMl_normal.jpg', profile_banner_url='https://pbs.twimg.com/profile_banners/257806640/1592405196', profile_link_color='332D23', profile_sidebar_border_color='4F606E', profile_sidebar_fill_color='0D0806', profile_text_color='544C45', profile_use_background_image=True, has_extended_profile=False, default_profile=False, default_profile_image=False, following=False, follow_request_sent=False, notifications=False, translator_type='none'), geo=None, coordinates=None, place=None, contributors=None, is_quote_status=False, retweet_count=0, favorite_count=0, favorited=False, retweeted=False, lang='en') \n",
      "\n",
      ".....................................\n",
      "\n",
      "Status(_api=<tweepy.api.API object at 0x0000021CCA17E9D0>, _json={'created_at': 'Sat Dec 12 07:39:10 +0000 2020', 'id': 1337663267104194560, 'id_str': '1337663267104194560', 'full_text': \"@Baliramyadav007 @jazzyb @diljitdosanjh @IamAmrinderGill @GippyGrewal Why not declare MSP as new law to ensure the MSP granted..  So that every farmer on this planet can earn like Punjab's farmer..  U modi bhagat\", 'truncated': False, 'display_text_range': [70, 212], 'entities': {'hashtags': [], 'symbols': [], 'user_mentions': [{'screen_name': 'Baliramyadav007', 'name': 'Baliram Yadav', 'id': 867751124748689409, 'id_str': '867751124748689409', 'indices': [0, 16]}, {'screen_name': 'jazzyb', 'name': 'Jazzy B', 'id': 214924885, 'id_str': '214924885', 'indices': [17, 24]}, {'screen_name': 'diljitdosanjh', 'name': 'DILJIT DOSANJH', 'id': 310679156, 'id_str': '310679156', 'indices': [25, 39]}, {'screen_name': 'IamAmrinderGill', 'name': 'Amrinder Gill', 'id': 873772021, 'id_str': '873772021', 'indices': [40, 56]}, {'screen_name': 'GippyGrewal', 'name': 'Gippy Grewal', 'id': 328630711, 'id_str': '328630711', 'indices': [57, 69]}], 'urls': []}, 'metadata': {'iso_language_code': 'en', 'result_type': 'recent'}, 'source': '<a href=\"http://twitter.com/download/android\" rel=\"nofollow\">Twitter for Android</a>', 'in_reply_to_status_id': 1337657721152159746, 'in_reply_to_status_id_str': '1337657721152159746', 'in_reply_to_user_id': 867751124748689409, 'in_reply_to_user_id_str': '867751124748689409', 'in_reply_to_screen_name': 'Baliramyadav007', 'user': {'id': 1333651040852267009, 'id_str': '1333651040852267009', 'name': 'Gurbagh Singh', 'screen_name': 'Gurbagh_Gill', 'location': 'Tarn Taran, India', 'description': '', 'url': None, 'entities': {'description': {'urls': []}}, 'protected': False, 'followers_count': 8, 'friends_count': 15, 'listed_count': 0, 'created_at': 'Tue Dec 01 05:56:11 +0000 2020', 'favourites_count': 185, 'utc_offset': None, 'time_zone': None, 'geo_enabled': False, 'verified': False, 'statuses_count': 85, 'lang': None, 'contributors_enabled': False, 'is_translator': False, 'is_translation_enabled': False, 'profile_background_color': 'F5F8FA', 'profile_background_image_url': None, 'profile_background_image_url_https': None, 'profile_background_tile': False, 'profile_image_url': 'http://pbs.twimg.com/profile_images/1333651327998574592/UQ5GNL4__normal.jpg', 'profile_image_url_https': 'https://pbs.twimg.com/profile_images/1333651327998574592/UQ5GNL4__normal.jpg', 'profile_banner_url': 'https://pbs.twimg.com/profile_banners/1333651040852267009/1606907027', 'profile_link_color': '1DA1F2', 'profile_sidebar_border_color': 'C0DEED', 'profile_sidebar_fill_color': 'DDEEF6', 'profile_text_color': '333333', 'profile_use_background_image': True, 'has_extended_profile': True, 'default_profile': True, 'default_profile_image': False, 'following': False, 'follow_request_sent': False, 'notifications': False, 'translator_type': 'none'}, 'geo': None, 'coordinates': None, 'place': None, 'contributors': None, 'is_quote_status': False, 'retweet_count': 0, 'favorite_count': 0, 'favorited': False, 'retweeted': False, 'lang': 'en'}, created_at=datetime.datetime(2020, 12, 12, 7, 39, 10), id=1337663267104194560, id_str='1337663267104194560', full_text=\"@Baliramyadav007 @jazzyb @diljitdosanjh @IamAmrinderGill @GippyGrewal Why not declare MSP as new law to ensure the MSP granted..  So that every farmer on this planet can earn like Punjab's farmer..  U modi bhagat\", truncated=False, display_text_range=[70, 212], entities={'hashtags': [], 'symbols': [], 'user_mentions': [{'screen_name': 'Baliramyadav007', 'name': 'Baliram Yadav', 'id': 867751124748689409, 'id_str': '867751124748689409', 'indices': [0, 16]}, {'screen_name': 'jazzyb', 'name': 'Jazzy B', 'id': 214924885, 'id_str': '214924885', 'indices': [17, 24]}, {'screen_name': 'diljitdosanjh', 'name': 'DILJIT DOSANJH', 'id': 310679156, 'id_str': '310679156', 'indices': [25, 39]}, {'screen_name': 'IamAmrinderGill', 'name': 'Amrinder Gill', 'id': 873772021, 'id_str': '873772021', 'indices': [40, 56]}, {'screen_name': 'GippyGrewal', 'name': 'Gippy Grewal', 'id': 328630711, 'id_str': '328630711', 'indices': [57, 69]}], 'urls': []}, metadata={'iso_language_code': 'en', 'result_type': 'recent'}, source='Twitter for Android', source_url='http://twitter.com/download/android', in_reply_to_status_id=1337657721152159746, in_reply_to_status_id_str='1337657721152159746', in_reply_to_user_id=867751124748689409, in_reply_to_user_id_str='867751124748689409', in_reply_to_screen_name='Baliramyadav007', author=User(_api=<tweepy.api.API object at 0x0000021CCA17E9D0>, _json={'id': 1333651040852267009, 'id_str': '1333651040852267009', 'name': 'Gurbagh Singh', 'screen_name': 'Gurbagh_Gill', 'location': 'Tarn Taran, India', 'description': '', 'url': None, 'entities': {'description': {'urls': []}}, 'protected': False, 'followers_count': 8, 'friends_count': 15, 'listed_count': 0, 'created_at': 'Tue Dec 01 05:56:11 +0000 2020', 'favourites_count': 185, 'utc_offset': None, 'time_zone': None, 'geo_enabled': False, 'verified': False, 'statuses_count': 85, 'lang': None, 'contributors_enabled': False, 'is_translator': False, 'is_translation_enabled': False, 'profile_background_color': 'F5F8FA', 'profile_background_image_url': None, 'profile_background_image_url_https': None, 'profile_background_tile': False, 'profile_image_url': 'http://pbs.twimg.com/profile_images/1333651327998574592/UQ5GNL4__normal.jpg', 'profile_image_url_https': 'https://pbs.twimg.com/profile_images/1333651327998574592/UQ5GNL4__normal.jpg', 'profile_banner_url': 'https://pbs.twimg.com/profile_banners/1333651040852267009/1606907027', 'profile_link_color': '1DA1F2', 'profile_sidebar_border_color': 'C0DEED', 'profile_sidebar_fill_color': 'DDEEF6', 'profile_text_color': '333333', 'profile_use_background_image': True, 'has_extended_profile': True, 'default_profile': True, 'default_profile_image': False, 'following': False, 'follow_request_sent': False, 'notifications': False, 'translator_type': 'none'}, id=1333651040852267009, id_str='1333651040852267009', name='Gurbagh Singh', screen_name='Gurbagh_Gill', location='Tarn Taran, India', description='', url=None, entities={'description': {'urls': []}}, protected=False, followers_count=8, friends_count=15, listed_count=0, created_at=datetime.datetime(2020, 12, 1, 5, 56, 11), favourites_count=185, utc_offset=None, time_zone=None, geo_enabled=False, verified=False, statuses_count=85, lang=None, contributors_enabled=False, is_translator=False, is_translation_enabled=False, profile_background_color='F5F8FA', profile_background_image_url=None, profile_background_image_url_https=None, profile_background_tile=False, profile_image_url='http://pbs.twimg.com/profile_images/1333651327998574592/UQ5GNL4__normal.jpg', profile_image_url_https='https://pbs.twimg.com/profile_images/1333651327998574592/UQ5GNL4__normal.jpg', profile_banner_url='https://pbs.twimg.com/profile_banners/1333651040852267009/1606907027', profile_link_color='1DA1F2', profile_sidebar_border_color='C0DEED', profile_sidebar_fill_color='DDEEF6', profile_text_color='333333', profile_use_background_image=True, has_extended_profile=True, default_profile=True, default_profile_image=False, following=False, follow_request_sent=False, notifications=False, translator_type='none'), user=User(_api=<tweepy.api.API object at 0x0000021CCA17E9D0>, _json={'id': 1333651040852267009, 'id_str': '1333651040852267009', 'name': 'Gurbagh Singh', 'screen_name': 'Gurbagh_Gill', 'location': 'Tarn Taran, India', 'description': '', 'url': None, 'entities': {'description': {'urls': []}}, 'protected': False, 'followers_count': 8, 'friends_count': 15, 'listed_count': 0, 'created_at': 'Tue Dec 01 05:56:11 +0000 2020', 'favourites_count': 185, 'utc_offset': None, 'time_zone': None, 'geo_enabled': False, 'verified': False, 'statuses_count': 85, 'lang': None, 'contributors_enabled': False, 'is_translator': False, 'is_translation_enabled': False, 'profile_background_color': 'F5F8FA', 'profile_background_image_url': None, 'profile_background_image_url_https': None, 'profile_background_tile': False, 'profile_image_url': 'http://pbs.twimg.com/profile_images/1333651327998574592/UQ5GNL4__normal.jpg', 'profile_image_url_https': 'https://pbs.twimg.com/profile_images/1333651327998574592/UQ5GNL4__normal.jpg', 'profile_banner_url': 'https://pbs.twimg.com/profile_banners/1333651040852267009/1606907027', 'profile_link_color': '1DA1F2', 'profile_sidebar_border_color': 'C0DEED', 'profile_sidebar_fill_color': 'DDEEF6', 'profile_text_color': '333333', 'profile_use_background_image': True, 'has_extended_profile': True, 'default_profile': True, 'default_profile_image': False, 'following': False, 'follow_request_sent': False, 'notifications': False, 'translator_type': 'none'}, id=1333651040852267009, id_str='1333651040852267009', name='Gurbagh Singh', screen_name='Gurbagh_Gill', location='Tarn Taran, India', description='', url=None, entities={'description': {'urls': []}}, protected=False, followers_count=8, friends_count=15, listed_count=0, created_at=datetime.datetime(2020, 12, 1, 5, 56, 11), favourites_count=185, utc_offset=None, time_zone=None, geo_enabled=False, verified=False, statuses_count=85, lang=None, contributors_enabled=False, is_translator=False, is_translation_enabled=False, profile_background_color='F5F8FA', profile_background_image_url=None, profile_background_image_url_https=None, profile_background_tile=False, profile_image_url='http://pbs.twimg.com/profile_images/1333651327998574592/UQ5GNL4__normal.jpg', profile_image_url_https='https://pbs.twimg.com/profile_images/1333651327998574592/UQ5GNL4__normal.jpg', profile_banner_url='https://pbs.twimg.com/profile_banners/1333651040852267009/1606907027', profile_link_color='1DA1F2', profile_sidebar_border_color='C0DEED', profile_sidebar_fill_color='DDEEF6', profile_text_color='333333', profile_use_background_image=True, has_extended_profile=True, default_profile=True, default_profile_image=False, following=False, follow_request_sent=False, notifications=False, translator_type='none'), geo=None, coordinates=None, place=None, contributors=None, is_quote_status=False, retweet_count=0, favorite_count=0, favorited=False, retweeted=False, lang='en') \n",
      "\n",
      ".....................................\n",
      "\n",
      "Status(_api=<tweepy.api.API object at 0x0000021CCA17E9D0>, _json={'created_at': 'Sat Dec 12 07:29:39 +0000 2020', 'id': 1337660875159658496, 'id_str': '1337660875159658496', 'full_text': \"@SikhiWonders @SimranK60419840 I'm a punjabi hindu not a farmer but I have read the law and ofcourse it's not good for small farmers.\\nI support farmers protest but not supporting indian sikhs asking for khalistan and to free the antinationals.  Do you also think indian farmer protest is hijacked?\", 'truncated': False, 'display_text_range': [31, 297], 'entities': {'hashtags': [], 'symbols': [], 'user_mentions': [{'screen_name': 'SikhiWonders', 'name': 'SikhiWonders', 'id': 4258370426, 'id_str': '4258370426', 'indices': [0, 13]}, {'screen_name': 'SimranK60419840', 'name': 'Simran Kaur', 'id': 1176460589784293376, 'id_str': '1176460589784293376', 'indices': [14, 30]}], 'urls': []}, 'metadata': {'iso_language_code': 'en', 'result_type': 'recent'}, 'source': '<a href=\"https://mobile.twitter.com\" rel=\"nofollow\">Twitter Web App</a>', 'in_reply_to_status_id': 1337655804997103616, 'in_reply_to_status_id_str': '1337655804997103616', 'in_reply_to_user_id': 4258370426, 'in_reply_to_user_id_str': '4258370426', 'in_reply_to_screen_name': 'SikhiWonders', 'user': {'id': 1335962363892121604, 'id_str': '1335962363892121604', 'name': 'Mahira', 'screen_name': 'Mahira50525951', 'location': '', 'description': 'Cute n hilarious 😉', 'url': None, 'entities': {'description': {'urls': []}}, 'protected': False, 'followers_count': 7, 'friends_count': 33, 'listed_count': 0, 'created_at': 'Mon Dec 07 15:00:31 +0000 2020', 'favourites_count': 146, 'utc_offset': None, 'time_zone': None, 'geo_enabled': False, 'verified': False, 'statuses_count': 192, 'lang': None, 'contributors_enabled': False, 'is_translator': False, 'is_translation_enabled': False, 'profile_background_color': 'F5F8FA', 'profile_background_image_url': None, 'profile_background_image_url_https': None, 'profile_background_tile': False, 'profile_image_url': 'http://pbs.twimg.com/profile_images/1336611117058064384/IBKpjgHe_normal.jpg', 'profile_image_url_https': 'https://pbs.twimg.com/profile_images/1336611117058064384/IBKpjgHe_normal.jpg', 'profile_link_color': '1DA1F2', 'profile_sidebar_border_color': 'C0DEED', 'profile_sidebar_fill_color': 'DDEEF6', 'profile_text_color': '333333', 'profile_use_background_image': True, 'has_extended_profile': True, 'default_profile': True, 'default_profile_image': False, 'following': False, 'follow_request_sent': False, 'notifications': False, 'translator_type': 'none'}, 'geo': None, 'coordinates': None, 'place': None, 'contributors': None, 'is_quote_status': False, 'retweet_count': 0, 'favorite_count': 1, 'favorited': False, 'retweeted': False, 'lang': 'en'}, created_at=datetime.datetime(2020, 12, 12, 7, 29, 39), id=1337660875159658496, id_str='1337660875159658496', full_text=\"@SikhiWonders @SimranK60419840 I'm a punjabi hindu not a farmer but I have read the law and ofcourse it's not good for small farmers.\\nI support farmers protest but not supporting indian sikhs asking for khalistan and to free the antinationals.  Do you also think indian farmer protest is hijacked?\", truncated=False, display_text_range=[31, 297], entities={'hashtags': [], 'symbols': [], 'user_mentions': [{'screen_name': 'SikhiWonders', 'name': 'SikhiWonders', 'id': 4258370426, 'id_str': '4258370426', 'indices': [0, 13]}, {'screen_name': 'SimranK60419840', 'name': 'Simran Kaur', 'id': 1176460589784293376, 'id_str': '1176460589784293376', 'indices': [14, 30]}], 'urls': []}, metadata={'iso_language_code': 'en', 'result_type': 'recent'}, source='Twitter Web App', source_url='https://mobile.twitter.com', in_reply_to_status_id=1337655804997103616, in_reply_to_status_id_str='1337655804997103616', in_reply_to_user_id=4258370426, in_reply_to_user_id_str='4258370426', in_reply_to_screen_name='SikhiWonders', author=User(_api=<tweepy.api.API object at 0x0000021CCA17E9D0>, _json={'id': 1335962363892121604, 'id_str': '1335962363892121604', 'name': 'Mahira', 'screen_name': 'Mahira50525951', 'location': '', 'description': 'Cute n hilarious 😉', 'url': None, 'entities': {'description': {'urls': []}}, 'protected': False, 'followers_count': 7, 'friends_count': 33, 'listed_count': 0, 'created_at': 'Mon Dec 07 15:00:31 +0000 2020', 'favourites_count': 146, 'utc_offset': None, 'time_zone': None, 'geo_enabled': False, 'verified': False, 'statuses_count': 192, 'lang': None, 'contributors_enabled': False, 'is_translator': False, 'is_translation_enabled': False, 'profile_background_color': 'F5F8FA', 'profile_background_image_url': None, 'profile_background_image_url_https': None, 'profile_background_tile': False, 'profile_image_url': 'http://pbs.twimg.com/profile_images/1336611117058064384/IBKpjgHe_normal.jpg', 'profile_image_url_https': 'https://pbs.twimg.com/profile_images/1336611117058064384/IBKpjgHe_normal.jpg', 'profile_link_color': '1DA1F2', 'profile_sidebar_border_color': 'C0DEED', 'profile_sidebar_fill_color': 'DDEEF6', 'profile_text_color': '333333', 'profile_use_background_image': True, 'has_extended_profile': True, 'default_profile': True, 'default_profile_image': False, 'following': False, 'follow_request_sent': False, 'notifications': False, 'translator_type': 'none'}, id=1335962363892121604, id_str='1335962363892121604', name='Mahira', screen_name='Mahira50525951', location='', description='Cute n hilarious 😉', url=None, entities={'description': {'urls': []}}, protected=False, followers_count=7, friends_count=33, listed_count=0, created_at=datetime.datetime(2020, 12, 7, 15, 0, 31), favourites_count=146, utc_offset=None, time_zone=None, geo_enabled=False, verified=False, statuses_count=192, lang=None, contributors_enabled=False, is_translator=False, is_translation_enabled=False, profile_background_color='F5F8FA', profile_background_image_url=None, profile_background_image_url_https=None, profile_background_tile=False, profile_image_url='http://pbs.twimg.com/profile_images/1336611117058064384/IBKpjgHe_normal.jpg', profile_image_url_https='https://pbs.twimg.com/profile_images/1336611117058064384/IBKpjgHe_normal.jpg', profile_link_color='1DA1F2', profile_sidebar_border_color='C0DEED', profile_sidebar_fill_color='DDEEF6', profile_text_color='333333', profile_use_background_image=True, has_extended_profile=True, default_profile=True, default_profile_image=False, following=False, follow_request_sent=False, notifications=False, translator_type='none'), user=User(_api=<tweepy.api.API object at 0x0000021CCA17E9D0>, _json={'id': 1335962363892121604, 'id_str': '1335962363892121604', 'name': 'Mahira', 'screen_name': 'Mahira50525951', 'location': '', 'description': 'Cute n hilarious 😉', 'url': None, 'entities': {'description': {'urls': []}}, 'protected': False, 'followers_count': 7, 'friends_count': 33, 'listed_count': 0, 'created_at': 'Mon Dec 07 15:00:31 +0000 2020', 'favourites_count': 146, 'utc_offset': None, 'time_zone': None, 'geo_enabled': False, 'verified': False, 'statuses_count': 192, 'lang': None, 'contributors_enabled': False, 'is_translator': False, 'is_translation_enabled': False, 'profile_background_color': 'F5F8FA', 'profile_background_image_url': None, 'profile_background_image_url_https': None, 'profile_background_tile': False, 'profile_image_url': 'http://pbs.twimg.com/profile_images/1336611117058064384/IBKpjgHe_normal.jpg', 'profile_image_url_https': 'https://pbs.twimg.com/profile_images/1336611117058064384/IBKpjgHe_normal.jpg', 'profile_link_color': '1DA1F2', 'profile_sidebar_border_color': 'C0DEED', 'profile_sidebar_fill_color': 'DDEEF6', 'profile_text_color': '333333', 'profile_use_background_image': True, 'has_extended_profile': True, 'default_profile': True, 'default_profile_image': False, 'following': False, 'follow_request_sent': False, 'notifications': False, 'translator_type': 'none'}, id=1335962363892121604, id_str='1335962363892121604', name='Mahira', screen_name='Mahira50525951', location='', description='Cute n hilarious 😉', url=None, entities={'description': {'urls': []}}, protected=False, followers_count=7, friends_count=33, listed_count=0, created_at=datetime.datetime(2020, 12, 7, 15, 0, 31), favourites_count=146, utc_offset=None, time_zone=None, geo_enabled=False, verified=False, statuses_count=192, lang=None, contributors_enabled=False, is_translator=False, is_translation_enabled=False, profile_background_color='F5F8FA', profile_background_image_url=None, profile_background_image_url_https=None, profile_background_tile=False, profile_image_url='http://pbs.twimg.com/profile_images/1336611117058064384/IBKpjgHe_normal.jpg', profile_image_url_https='https://pbs.twimg.com/profile_images/1336611117058064384/IBKpjgHe_normal.jpg', profile_link_color='1DA1F2', profile_sidebar_border_color='C0DEED', profile_sidebar_fill_color='DDEEF6', profile_text_color='333333', profile_use_background_image=True, has_extended_profile=True, default_profile=True, default_profile_image=False, following=False, follow_request_sent=False, notifications=False, translator_type='none'), geo=None, coordinates=None, place=None, contributors=None, is_quote_status=False, retweet_count=0, favorite_count=1, favorited=False, retweeted=False, lang='en') \n",
      "\n",
      ".....................................\n",
      "\n",
      "Status(_api=<tweepy.api.API object at 0x0000021CCA17E9D0>, _json={'created_at': 'Sat Dec 12 07:01:33 +0000 2020', 'id': 1337653803827355650, 'id_str': '1337653803827355650', 'full_text': '@kaushikcbasu Dear Mr Kaushik, you can also say that you have read constitution and is detrimental for Indian citizen and therefore it’s good that people keep opposing. Pls tell thread bear why you think farm law is against farmer. No Rhetoric . Pls give point by point detail thanks', 'truncated': False, 'display_text_range': [14, 283], 'entities': {'hashtags': [], 'symbols': [], 'user_mentions': [{'screen_name': 'kaushikcbasu', 'name': 'Kaushik Basu', 'id': 17797666, 'id_str': '17797666', 'indices': [0, 13]}], 'urls': []}, 'metadata': {'iso_language_code': 'en', 'result_type': 'recent'}, 'source': '<a href=\"http://twitter.com/download/iphone\" rel=\"nofollow\">Twitter for iPhone</a>', 'in_reply_to_status_id': 1337239189050580994, 'in_reply_to_status_id_str': '1337239189050580994', 'in_reply_to_user_id': 17797666, 'in_reply_to_user_id_str': '17797666', 'in_reply_to_screen_name': 'kaushikcbasu', 'user': {'id': 175095179, 'id_str': '175095179', 'name': 'Prashant Rastogi', 'screen_name': 'prastogi1980', 'location': 'gurgaon', 'description': '', 'url': None, 'entities': {'description': {'urls': []}}, 'protected': False, 'followers_count': 41, 'friends_count': 182, 'listed_count': 0, 'created_at': 'Thu Aug 05 16:38:27 +0000 2010', 'favourites_count': 2171, 'utc_offset': None, 'time_zone': None, 'geo_enabled': False, 'verified': False, 'statuses_count': 2119, 'lang': None, 'contributors_enabled': False, 'is_translator': False, 'is_translation_enabled': False, 'profile_background_color': 'C0DEED', 'profile_background_image_url': 'http://abs.twimg.com/images/themes/theme1/bg.png', 'profile_background_image_url_https': 'https://abs.twimg.com/images/themes/theme1/bg.png', 'profile_background_tile': False, 'profile_image_url': 'http://pbs.twimg.com/profile_images/663316246918623232/jLHnQ94f_normal.jpg', 'profile_image_url_https': 'https://pbs.twimg.com/profile_images/663316246918623232/jLHnQ94f_normal.jpg', 'profile_link_color': '1DA1F2', 'profile_sidebar_border_color': 'C0DEED', 'profile_sidebar_fill_color': 'DDEEF6', 'profile_text_color': '333333', 'profile_use_background_image': True, 'has_extended_profile': True, 'default_profile': True, 'default_profile_image': False, 'following': False, 'follow_request_sent': False, 'notifications': False, 'translator_type': 'none'}, 'geo': None, 'coordinates': None, 'place': None, 'contributors': None, 'is_quote_status': False, 'retweet_count': 1, 'favorite_count': 1, 'favorited': False, 'retweeted': False, 'lang': 'en'}, created_at=datetime.datetime(2020, 12, 12, 7, 1, 33), id=1337653803827355650, id_str='1337653803827355650', full_text='@kaushikcbasu Dear Mr Kaushik, you can also say that you have read constitution and is detrimental for Indian citizen and therefore it’s good that people keep opposing. Pls tell thread bear why you think farm law is against farmer. No Rhetoric . Pls give point by point detail thanks', truncated=False, display_text_range=[14, 283], entities={'hashtags': [], 'symbols': [], 'user_mentions': [{'screen_name': 'kaushikcbasu', 'name': 'Kaushik Basu', 'id': 17797666, 'id_str': '17797666', 'indices': [0, 13]}], 'urls': []}, metadata={'iso_language_code': 'en', 'result_type': 'recent'}, source='Twitter for iPhone', source_url='http://twitter.com/download/iphone', in_reply_to_status_id=1337239189050580994, in_reply_to_status_id_str='1337239189050580994', in_reply_to_user_id=17797666, in_reply_to_user_id_str='17797666', in_reply_to_screen_name='kaushikcbasu', author=User(_api=<tweepy.api.API object at 0x0000021CCA17E9D0>, _json={'id': 175095179, 'id_str': '175095179', 'name': 'Prashant Rastogi', 'screen_name': 'prastogi1980', 'location': 'gurgaon', 'description': '', 'url': None, 'entities': {'description': {'urls': []}}, 'protected': False, 'followers_count': 41, 'friends_count': 182, 'listed_count': 0, 'created_at': 'Thu Aug 05 16:38:27 +0000 2010', 'favourites_count': 2171, 'utc_offset': None, 'time_zone': None, 'geo_enabled': False, 'verified': False, 'statuses_count': 2119, 'lang': None, 'contributors_enabled': False, 'is_translator': False, 'is_translation_enabled': False, 'profile_background_color': 'C0DEED', 'profile_background_image_url': 'http://abs.twimg.com/images/themes/theme1/bg.png', 'profile_background_image_url_https': 'https://abs.twimg.com/images/themes/theme1/bg.png', 'profile_background_tile': False, 'profile_image_url': 'http://pbs.twimg.com/profile_images/663316246918623232/jLHnQ94f_normal.jpg', 'profile_image_url_https': 'https://pbs.twimg.com/profile_images/663316246918623232/jLHnQ94f_normal.jpg', 'profile_link_color': '1DA1F2', 'profile_sidebar_border_color': 'C0DEED', 'profile_sidebar_fill_color': 'DDEEF6', 'profile_text_color': '333333', 'profile_use_background_image': True, 'has_extended_profile': True, 'default_profile': True, 'default_profile_image': False, 'following': False, 'follow_request_sent': False, 'notifications': False, 'translator_type': 'none'}, id=175095179, id_str='175095179', name='Prashant Rastogi', screen_name='prastogi1980', location='gurgaon', description='', url=None, entities={'description': {'urls': []}}, protected=False, followers_count=41, friends_count=182, listed_count=0, created_at=datetime.datetime(2010, 8, 5, 16, 38, 27), favourites_count=2171, utc_offset=None, time_zone=None, geo_enabled=False, verified=False, statuses_count=2119, lang=None, contributors_enabled=False, is_translator=False, is_translation_enabled=False, profile_background_color='C0DEED', profile_background_image_url='http://abs.twimg.com/images/themes/theme1/bg.png', profile_background_image_url_https='https://abs.twimg.com/images/themes/theme1/bg.png', profile_background_tile=False, profile_image_url='http://pbs.twimg.com/profile_images/663316246918623232/jLHnQ94f_normal.jpg', profile_image_url_https='https://pbs.twimg.com/profile_images/663316246918623232/jLHnQ94f_normal.jpg', profile_link_color='1DA1F2', profile_sidebar_border_color='C0DEED', profile_sidebar_fill_color='DDEEF6', profile_text_color='333333', profile_use_background_image=True, has_extended_profile=True, default_profile=True, default_profile_image=False, following=False, follow_request_sent=False, notifications=False, translator_type='none'), user=User(_api=<tweepy.api.API object at 0x0000021CCA17E9D0>, _json={'id': 175095179, 'id_str': '175095179', 'name': 'Prashant Rastogi', 'screen_name': 'prastogi1980', 'location': 'gurgaon', 'description': '', 'url': None, 'entities': {'description': {'urls': []}}, 'protected': False, 'followers_count': 41, 'friends_count': 182, 'listed_count': 0, 'created_at': 'Thu Aug 05 16:38:27 +0000 2010', 'favourites_count': 2171, 'utc_offset': None, 'time_zone': None, 'geo_enabled': False, 'verified': False, 'statuses_count': 2119, 'lang': None, 'contributors_enabled': False, 'is_translator': False, 'is_translation_enabled': False, 'profile_background_color': 'C0DEED', 'profile_background_image_url': 'http://abs.twimg.com/images/themes/theme1/bg.png', 'profile_background_image_url_https': 'https://abs.twimg.com/images/themes/theme1/bg.png', 'profile_background_tile': False, 'profile_image_url': 'http://pbs.twimg.com/profile_images/663316246918623232/jLHnQ94f_normal.jpg', 'profile_image_url_https': 'https://pbs.twimg.com/profile_images/663316246918623232/jLHnQ94f_normal.jpg', 'profile_link_color': '1DA1F2', 'profile_sidebar_border_color': 'C0DEED', 'profile_sidebar_fill_color': 'DDEEF6', 'profile_text_color': '333333', 'profile_use_background_image': True, 'has_extended_profile': True, 'default_profile': True, 'default_profile_image': False, 'following': False, 'follow_request_sent': False, 'notifications': False, 'translator_type': 'none'}, id=175095179, id_str='175095179', name='Prashant Rastogi', screen_name='prastogi1980', location='gurgaon', description='', url=None, entities={'description': {'urls': []}}, protected=False, followers_count=41, friends_count=182, listed_count=0, created_at=datetime.datetime(2010, 8, 5, 16, 38, 27), favourites_count=2171, utc_offset=None, time_zone=None, geo_enabled=False, verified=False, statuses_count=2119, lang=None, contributors_enabled=False, is_translator=False, is_translation_enabled=False, profile_background_color='C0DEED', profile_background_image_url='http://abs.twimg.com/images/themes/theme1/bg.png', profile_background_image_url_https='https://abs.twimg.com/images/themes/theme1/bg.png', profile_background_tile=False, profile_image_url='http://pbs.twimg.com/profile_images/663316246918623232/jLHnQ94f_normal.jpg', profile_image_url_https='https://pbs.twimg.com/profile_images/663316246918623232/jLHnQ94f_normal.jpg', profile_link_color='1DA1F2', profile_sidebar_border_color='C0DEED', profile_sidebar_fill_color='DDEEF6', profile_text_color='333333', profile_use_background_image=True, has_extended_profile=True, default_profile=True, default_profile_image=False, following=False, follow_request_sent=False, notifications=False, translator_type='none'), geo=None, coordinates=None, place=None, contributors=None, is_quote_status=False, retweet_count=1, favorite_count=1, favorited=False, retweeted=False, lang='en') \n",
      "\n",
      ".....................................\n",
      "\n",
      "Status(_api=<tweepy.api.API object at 0x0000021CCA17E9D0>, _json={'created_at': 'Sat Dec 12 06:25:11 +0000 2020', 'id': 1337644649607917572, 'id_str': '1337644649607917572', 'full_text': \"Must read article!!!!! Propaganda walo ki dukan jaldi hi shuter lagna wala hai. Majority of farmer's are happy with this law.#FarmersWithPMModi https://t.co/4ghcmsZu5L\", 'truncated': False, 'display_text_range': [0, 143], 'entities': {'hashtags': [{'text': 'FarmersWithPMModi', 'indices': [125, 143]}], 'symbols': [], 'user_mentions': [], 'urls': [{'url': 'https://t.co/4ghcmsZu5L', 'expanded_url': 'https://twitter.com/amitmalviya/status/1337643106078961664', 'display_url': 'twitter.com/amitmalviya/st…', 'indices': [144, 167]}]}, 'metadata': {'iso_language_code': 'en', 'result_type': 'recent'}, 'source': '<a href=\"http://twitter.com/download/android\" rel=\"nofollow\">Twitter for Android</a>', 'in_reply_to_status_id': None, 'in_reply_to_status_id_str': None, 'in_reply_to_user_id': None, 'in_reply_to_user_id_str': None, 'in_reply_to_screen_name': None, 'user': {'id': 1337289460543868931, 'id_str': '1337289460543868931', 'name': 'Arun Mishra', 'screen_name': 'anni_o15', 'location': 'Ahmadabad City, India', 'description': \"let's come with different ideas \\nand get join to built United ideology\\nHere get see truth & endorse truth😁😁\", 'url': None, 'entities': {'description': {'urls': []}}, 'protected': False, 'followers_count': 17, 'friends_count': 4, 'listed_count': 0, 'created_at': 'Fri Dec 11 06:54:05 +0000 2020', 'favourites_count': 19, 'utc_offset': None, 'time_zone': None, 'geo_enabled': False, 'verified': False, 'statuses_count': 13, 'lang': None, 'contributors_enabled': False, 'is_translator': False, 'is_translation_enabled': False, 'profile_background_color': 'F5F8FA', 'profile_background_image_url': None, 'profile_background_image_url_https': None, 'profile_background_tile': False, 'profile_image_url': 'http://pbs.twimg.com/profile_images/1337295563193249794/9o3kTtTA_normal.jpg', 'profile_image_url_https': 'https://pbs.twimg.com/profile_images/1337295563193249794/9o3kTtTA_normal.jpg', 'profile_banner_url': 'https://pbs.twimg.com/profile_banners/1337289460543868931/1607671484', 'profile_link_color': '1DA1F2', 'profile_sidebar_border_color': 'C0DEED', 'profile_sidebar_fill_color': 'DDEEF6', 'profile_text_color': '333333', 'profile_use_background_image': True, 'has_extended_profile': True, 'default_profile': True, 'default_profile_image': False, 'following': False, 'follow_request_sent': False, 'notifications': False, 'translator_type': 'none'}, 'geo': None, 'coordinates': None, 'place': None, 'contributors': None, 'is_quote_status': True, 'quoted_status_id': 1337643106078961664, 'quoted_status_id_str': '1337643106078961664', 'quoted_status': {'created_at': 'Sat Dec 12 06:19:03 +0000 2020', 'id': 1337643106078961664, 'id_str': '1337643106078961664', 'full_text': 'Opposition to historic farm laws is suicidal for India’s agriculture. The agitation is led by a section of the farmers, misled by false propaganda. On the other hand, the majority of the tilling class, Dalits and the poor, are conspicuous by their absence.https://t.co/8Zh2B3EdYz', 'truncated': False, 'display_text_range': [0, 279], 'entities': {'hashtags': [], 'symbols': [], 'user_mentions': [], 'urls': [{'url': 'https://t.co/8Zh2B3EdYz', 'expanded_url': 'https://www.hindustantimes.com/analysis/how-the-agriculture-reforms-finally-liberate-farmers/story-mB1fDyTdiaFA6LYxwBWW1K.html', 'display_url': 'hindustantimes.com/analysis/how-t…', 'indices': [256, 279]}]}, 'metadata': {'iso_language_code': 'en', 'result_type': 'recent'}, 'source': '<a href=\"http://twitter.com/download/iphone\" rel=\"nofollow\">Twitter for iPhone</a>', 'in_reply_to_status_id': None, 'in_reply_to_status_id_str': None, 'in_reply_to_user_id': None, 'in_reply_to_user_id_str': None, 'in_reply_to_screen_name': None, 'user': {'id': 95588504, 'id_str': '95588504', 'name': 'Amit Malviya', 'screen_name': 'amitmalviya', 'location': 'Delhi, Prayagraj, Kolkata', 'description': \"National in-charge of BJP's Information & Technology department. Co-incharge West Bengal. Ex-banker, interested in politics and economics. Views personal.\", 'url': 'https://t.co/cjXqo5t9hJ', 'entities': {'url': {'urls': [{'url': 'https://t.co/cjXqo5t9hJ', 'expanded_url': 'http://www.bjp.org', 'display_url': 'bjp.org', 'indices': [0, 23]}]}, 'description': {'urls': []}}, 'protected': False, 'followers_count': 554697, 'friends_count': 669, 'listed_count': 833, 'created_at': 'Wed Dec 09 05:56:08 +0000 2009', 'favourites_count': 482, 'utc_offset': None, 'time_zone': None, 'geo_enabled': False, 'verified': True, 'statuses_count': 150875, 'lang': None, 'contributors_enabled': False, 'is_translator': False, 'is_translation_enabled': False, 'profile_background_color': 'FAFAFA', 'profile_background_image_url': 'http://abs.twimg.com/images/themes/theme2/bg.gif', 'profile_background_image_url_https': 'https://abs.twimg.com/images/themes/theme2/bg.gif', 'profile_background_tile': False, 'profile_image_url': 'http://pbs.twimg.com/profile_images/1219259785624858625/Ss1vyUHc_normal.jpg', 'profile_image_url_https': 'https://pbs.twimg.com/profile_images/1219259785624858625/Ss1vyUHc_normal.jpg', 'profile_banner_url': 'https://pbs.twimg.com/profile_banners/95588504/1356584215', 'profile_link_color': '1F98C7', 'profile_sidebar_border_color': 'FFFFFF', 'profile_sidebar_fill_color': 'DAECF4', 'profile_text_color': '663B12', 'profile_use_background_image': False, 'has_extended_profile': True, 'default_profile': False, 'default_profile_image': False, 'following': False, 'follow_request_sent': False, 'notifications': False, 'translator_type': 'none'}, 'geo': None, 'coordinates': None, 'place': None, 'contributors': None, 'is_quote_status': False, 'retweet_count': 85, 'favorite_count': 334, 'favorited': False, 'retweeted': False, 'possibly_sensitive': False, 'lang': 'en'}, 'retweet_count': 0, 'favorite_count': 1, 'favorited': False, 'retweeted': False, 'possibly_sensitive': False, 'lang': 'en'}, created_at=datetime.datetime(2020, 12, 12, 6, 25, 11), id=1337644649607917572, id_str='1337644649607917572', full_text=\"Must read article!!!!! Propaganda walo ki dukan jaldi hi shuter lagna wala hai. Majority of farmer's are happy with this law.#FarmersWithPMModi https://t.co/4ghcmsZu5L\", truncated=False, display_text_range=[0, 143], entities={'hashtags': [{'text': 'FarmersWithPMModi', 'indices': [125, 143]}], 'symbols': [], 'user_mentions': [], 'urls': [{'url': 'https://t.co/4ghcmsZu5L', 'expanded_url': 'https://twitter.com/amitmalviya/status/1337643106078961664', 'display_url': 'twitter.com/amitmalviya/st…', 'indices': [144, 167]}]}, metadata={'iso_language_code': 'en', 'result_type': 'recent'}, source='Twitter for Android', source_url='http://twitter.com/download/android', in_reply_to_status_id=None, in_reply_to_status_id_str=None, in_reply_to_user_id=None, in_reply_to_user_id_str=None, in_reply_to_screen_name=None, author=User(_api=<tweepy.api.API object at 0x0000021CCA17E9D0>, _json={'id': 1337289460543868931, 'id_str': '1337289460543868931', 'name': 'Arun Mishra', 'screen_name': 'anni_o15', 'location': 'Ahmadabad City, India', 'description': \"let's come with different ideas \\nand get join to built United ideology\\nHere get see truth & endorse truth😁😁\", 'url': None, 'entities': {'description': {'urls': []}}, 'protected': False, 'followers_count': 17, 'friends_count': 4, 'listed_count': 0, 'created_at': 'Fri Dec 11 06:54:05 +0000 2020', 'favourites_count': 19, 'utc_offset': None, 'time_zone': None, 'geo_enabled': False, 'verified': False, 'statuses_count': 13, 'lang': None, 'contributors_enabled': False, 'is_translator': False, 'is_translation_enabled': False, 'profile_background_color': 'F5F8FA', 'profile_background_image_url': None, 'profile_background_image_url_https': None, 'profile_background_tile': False, 'profile_image_url': 'http://pbs.twimg.com/profile_images/1337295563193249794/9o3kTtTA_normal.jpg', 'profile_image_url_https': 'https://pbs.twimg.com/profile_images/1337295563193249794/9o3kTtTA_normal.jpg', 'profile_banner_url': 'https://pbs.twimg.com/profile_banners/1337289460543868931/1607671484', 'profile_link_color': '1DA1F2', 'profile_sidebar_border_color': 'C0DEED', 'profile_sidebar_fill_color': 'DDEEF6', 'profile_text_color': '333333', 'profile_use_background_image': True, 'has_extended_profile': True, 'default_profile': True, 'default_profile_image': False, 'following': False, 'follow_request_sent': False, 'notifications': False, 'translator_type': 'none'}, id=1337289460543868931, id_str='1337289460543868931', name='Arun Mishra', screen_name='anni_o15', location='Ahmadabad City, India', description=\"let's come with different ideas \\nand get join to built United ideology\\nHere get see truth & endorse truth😁😁\", url=None, entities={'description': {'urls': []}}, protected=False, followers_count=17, friends_count=4, listed_count=0, created_at=datetime.datetime(2020, 12, 11, 6, 54, 5), favourites_count=19, utc_offset=None, time_zone=None, geo_enabled=False, verified=False, statuses_count=13, lang=None, contributors_enabled=False, is_translator=False, is_translation_enabled=False, profile_background_color='F5F8FA', profile_background_image_url=None, profile_background_image_url_https=None, profile_background_tile=False, profile_image_url='http://pbs.twimg.com/profile_images/1337295563193249794/9o3kTtTA_normal.jpg', profile_image_url_https='https://pbs.twimg.com/profile_images/1337295563193249794/9o3kTtTA_normal.jpg', profile_banner_url='https://pbs.twimg.com/profile_banners/1337289460543868931/1607671484', profile_link_color='1DA1F2', profile_sidebar_border_color='C0DEED', profile_sidebar_fill_color='DDEEF6', profile_text_color='333333', profile_use_background_image=True, has_extended_profile=True, default_profile=True, default_profile_image=False, following=False, follow_request_sent=False, notifications=False, translator_type='none'), user=User(_api=<tweepy.api.API object at 0x0000021CCA17E9D0>, _json={'id': 1337289460543868931, 'id_str': '1337289460543868931', 'name': 'Arun Mishra', 'screen_name': 'anni_o15', 'location': 'Ahmadabad City, India', 'description': \"let's come with different ideas \\nand get join to built United ideology\\nHere get see truth & endorse truth😁😁\", 'url': None, 'entities': {'description': {'urls': []}}, 'protected': False, 'followers_count': 17, 'friends_count': 4, 'listed_count': 0, 'created_at': 'Fri Dec 11 06:54:05 +0000 2020', 'favourites_count': 19, 'utc_offset': None, 'time_zone': None, 'geo_enabled': False, 'verified': False, 'statuses_count': 13, 'lang': None, 'contributors_enabled': False, 'is_translator': False, 'is_translation_enabled': False, 'profile_background_color': 'F5F8FA', 'profile_background_image_url': None, 'profile_background_image_url_https': None, 'profile_background_tile': False, 'profile_image_url': 'http://pbs.twimg.com/profile_images/1337295563193249794/9o3kTtTA_normal.jpg', 'profile_image_url_https': 'https://pbs.twimg.com/profile_images/1337295563193249794/9o3kTtTA_normal.jpg', 'profile_banner_url': 'https://pbs.twimg.com/profile_banners/1337289460543868931/1607671484', 'profile_link_color': '1DA1F2', 'profile_sidebar_border_color': 'C0DEED', 'profile_sidebar_fill_color': 'DDEEF6', 'profile_text_color': '333333', 'profile_use_background_image': True, 'has_extended_profile': True, 'default_profile': True, 'default_profile_image': False, 'following': False, 'follow_request_sent': False, 'notifications': False, 'translator_type': 'none'}, id=1337289460543868931, id_str='1337289460543868931', name='Arun Mishra', screen_name='anni_o15', location='Ahmadabad City, India', description=\"let's come with different ideas \\nand get join to built United ideology\\nHere get see truth & endorse truth😁😁\", url=None, entities={'description': {'urls': []}}, protected=False, followers_count=17, friends_count=4, listed_count=0, created_at=datetime.datetime(2020, 12, 11, 6, 54, 5), favourites_count=19, utc_offset=None, time_zone=None, geo_enabled=False, verified=False, statuses_count=13, lang=None, contributors_enabled=False, is_translator=False, is_translation_enabled=False, profile_background_color='F5F8FA', profile_background_image_url=None, profile_background_image_url_https=None, profile_background_tile=False, profile_image_url='http://pbs.twimg.com/profile_images/1337295563193249794/9o3kTtTA_normal.jpg', profile_image_url_https='https://pbs.twimg.com/profile_images/1337295563193249794/9o3kTtTA_normal.jpg', profile_banner_url='https://pbs.twimg.com/profile_banners/1337289460543868931/1607671484', profile_link_color='1DA1F2', profile_sidebar_border_color='C0DEED', profile_sidebar_fill_color='DDEEF6', profile_text_color='333333', profile_use_background_image=True, has_extended_profile=True, default_profile=True, default_profile_image=False, following=False, follow_request_sent=False, notifications=False, translator_type='none'), geo=None, coordinates=None, place=None, contributors=None, is_quote_status=True, quoted_status_id=1337643106078961664, quoted_status_id_str='1337643106078961664', quoted_status=Status(_api=<tweepy.api.API object at 0x0000021CCA17E9D0>, _json={'created_at': 'Sat Dec 12 06:19:03 +0000 2020', 'id': 1337643106078961664, 'id_str': '1337643106078961664', 'full_text': 'Opposition to historic farm laws is suicidal for India’s agriculture. The agitation is led by a section of the farmers, misled by false propaganda. On the other hand, the majority of the tilling class, Dalits and the poor, are conspicuous by their absence.https://t.co/8Zh2B3EdYz', 'truncated': False, 'display_text_range': [0, 279], 'entities': {'hashtags': [], 'symbols': [], 'user_mentions': [], 'urls': [{'url': 'https://t.co/8Zh2B3EdYz', 'expanded_url': 'https://www.hindustantimes.com/analysis/how-the-agriculture-reforms-finally-liberate-farmers/story-mB1fDyTdiaFA6LYxwBWW1K.html', 'display_url': 'hindustantimes.com/analysis/how-t…', 'indices': [256, 279]}]}, 'metadata': {'iso_language_code': 'en', 'result_type': 'recent'}, 'source': '<a href=\"http://twitter.com/download/iphone\" rel=\"nofollow\">Twitter for iPhone</a>', 'in_reply_to_status_id': None, 'in_reply_to_status_id_str': None, 'in_reply_to_user_id': None, 'in_reply_to_user_id_str': None, 'in_reply_to_screen_name': None, 'user': {'id': 95588504, 'id_str': '95588504', 'name': 'Amit Malviya', 'screen_name': 'amitmalviya', 'location': 'Delhi, Prayagraj, Kolkata', 'description': \"National in-charge of BJP's Information & Technology department. Co-incharge West Bengal. Ex-banker, interested in politics and economics. Views personal.\", 'url': 'https://t.co/cjXqo5t9hJ', 'entities': {'url': {'urls': [{'url': 'https://t.co/cjXqo5t9hJ', 'expanded_url': 'http://www.bjp.org', 'display_url': 'bjp.org', 'indices': [0, 23]}]}, 'description': {'urls': []}}, 'protected': False, 'followers_count': 554697, 'friends_count': 669, 'listed_count': 833, 'created_at': 'Wed Dec 09 05:56:08 +0000 2009', 'favourites_count': 482, 'utc_offset': None, 'time_zone': None, 'geo_enabled': False, 'verified': True, 'statuses_count': 150875, 'lang': None, 'contributors_enabled': False, 'is_translator': False, 'is_translation_enabled': False, 'profile_background_color': 'FAFAFA', 'profile_background_image_url': 'http://abs.twimg.com/images/themes/theme2/bg.gif', 'profile_background_image_url_https': 'https://abs.twimg.com/images/themes/theme2/bg.gif', 'profile_background_tile': False, 'profile_image_url': 'http://pbs.twimg.com/profile_images/1219259785624858625/Ss1vyUHc_normal.jpg', 'profile_image_url_https': 'https://pbs.twimg.com/profile_images/1219259785624858625/Ss1vyUHc_normal.jpg', 'profile_banner_url': 'https://pbs.twimg.com/profile_banners/95588504/1356584215', 'profile_link_color': '1F98C7', 'profile_sidebar_border_color': 'FFFFFF', 'profile_sidebar_fill_color': 'DAECF4', 'profile_text_color': '663B12', 'profile_use_background_image': False, 'has_extended_profile': True, 'default_profile': False, 'default_profile_image': False, 'following': False, 'follow_request_sent': False, 'notifications': False, 'translator_type': 'none'}, 'geo': None, 'coordinates': None, 'place': None, 'contributors': None, 'is_quote_status': False, 'retweet_count': 85, 'favorite_count': 334, 'favorited': False, 'retweeted': False, 'possibly_sensitive': False, 'lang': 'en'}, created_at=datetime.datetime(2020, 12, 12, 6, 19, 3), id=1337643106078961664, id_str='1337643106078961664', full_text='Opposition to historic farm laws is suicidal for India’s agriculture. The agitation is led by a section of the farmers, misled by false propaganda. On the other hand, the majority of the tilling class, Dalits and the poor, are conspicuous by their absence.https://t.co/8Zh2B3EdYz', truncated=False, display_text_range=[0, 279], entities={'hashtags': [], 'symbols': [], 'user_mentions': [], 'urls': [{'url': 'https://t.co/8Zh2B3EdYz', 'expanded_url': 'https://www.hindustantimes.com/analysis/how-the-agriculture-reforms-finally-liberate-farmers/story-mB1fDyTdiaFA6LYxwBWW1K.html', 'display_url': 'hindustantimes.com/analysis/how-t…', 'indices': [256, 279]}]}, metadata={'iso_language_code': 'en', 'result_type': 'recent'}, source='Twitter for iPhone', source_url='http://twitter.com/download/iphone', in_reply_to_status_id=None, in_reply_to_status_id_str=None, in_reply_to_user_id=None, in_reply_to_user_id_str=None, in_reply_to_screen_name=None, author=User(_api=<tweepy.api.API object at 0x0000021CCA17E9D0>, _json={'id': 95588504, 'id_str': '95588504', 'name': 'Amit Malviya', 'screen_name': 'amitmalviya', 'location': 'Delhi, Prayagraj, Kolkata', 'description': \"National in-charge of BJP's Information & Technology department. Co-incharge West Bengal. Ex-banker, interested in politics and economics. Views personal.\", 'url': 'https://t.co/cjXqo5t9hJ', 'entities': {'url': {'urls': [{'url': 'https://t.co/cjXqo5t9hJ', 'expanded_url': 'http://www.bjp.org', 'display_url': 'bjp.org', 'indices': [0, 23]}]}, 'description': {'urls': []}}, 'protected': False, 'followers_count': 554697, 'friends_count': 669, 'listed_count': 833, 'created_at': 'Wed Dec 09 05:56:08 +0000 2009', 'favourites_count': 482, 'utc_offset': None, 'time_zone': None, 'geo_enabled': False, 'verified': True, 'statuses_count': 150875, 'lang': None, 'contributors_enabled': False, 'is_translator': False, 'is_translation_enabled': False, 'profile_background_color': 'FAFAFA', 'profile_background_image_url': 'http://abs.twimg.com/images/themes/theme2/bg.gif', 'profile_background_image_url_https': 'https://abs.twimg.com/images/themes/theme2/bg.gif', 'profile_background_tile': False, 'profile_image_url': 'http://pbs.twimg.com/profile_images/1219259785624858625/Ss1vyUHc_normal.jpg', 'profile_image_url_https': 'https://pbs.twimg.com/profile_images/1219259785624858625/Ss1vyUHc_normal.jpg', 'profile_banner_url': 'https://pbs.twimg.com/profile_banners/95588504/1356584215', 'profile_link_color': '1F98C7', 'profile_sidebar_border_color': 'FFFFFF', 'profile_sidebar_fill_color': 'DAECF4', 'profile_text_color': '663B12', 'profile_use_background_image': False, 'has_extended_profile': True, 'default_profile': False, 'default_profile_image': False, 'following': False, 'follow_request_sent': False, 'notifications': False, 'translator_type': 'none'}, id=95588504, id_str='95588504', name='Amit Malviya', screen_name='amitmalviya', location='Delhi, Prayagraj, Kolkata', description=\"National in-charge of BJP's Information & Technology department. Co-incharge West Bengal. Ex-banker, interested in politics and economics. Views personal.\", url='https://t.co/cjXqo5t9hJ', entities={'url': {'urls': [{'url': 'https://t.co/cjXqo5t9hJ', 'expanded_url': 'http://www.bjp.org', 'display_url': 'bjp.org', 'indices': [0, 23]}]}, 'description': {'urls': []}}, protected=False, followers_count=554697, friends_count=669, listed_count=833, created_at=datetime.datetime(2009, 12, 9, 5, 56, 8), favourites_count=482, utc_offset=None, time_zone=None, geo_enabled=False, verified=True, statuses_count=150875, lang=None, contributors_enabled=False, is_translator=False, is_translation_enabled=False, profile_background_color='FAFAFA', profile_background_image_url='http://abs.twimg.com/images/themes/theme2/bg.gif', profile_background_image_url_https='https://abs.twimg.com/images/themes/theme2/bg.gif', profile_background_tile=False, profile_image_url='http://pbs.twimg.com/profile_images/1219259785624858625/Ss1vyUHc_normal.jpg', profile_image_url_https='https://pbs.twimg.com/profile_images/1219259785624858625/Ss1vyUHc_normal.jpg', profile_banner_url='https://pbs.twimg.com/profile_banners/95588504/1356584215', profile_link_color='1F98C7', profile_sidebar_border_color='FFFFFF', profile_sidebar_fill_color='DAECF4', profile_text_color='663B12', profile_use_background_image=False, has_extended_profile=True, default_profile=False, default_profile_image=False, following=False, follow_request_sent=False, notifications=False, translator_type='none'), user=User(_api=<tweepy.api.API object at 0x0000021CCA17E9D0>, _json={'id': 95588504, 'id_str': '95588504', 'name': 'Amit Malviya', 'screen_name': 'amitmalviya', 'location': 'Delhi, Prayagraj, Kolkata', 'description': \"National in-charge of BJP's Information & Technology department. Co-incharge West Bengal. Ex-banker, interested in politics and economics. Views personal.\", 'url': 'https://t.co/cjXqo5t9hJ', 'entities': {'url': {'urls': [{'url': 'https://t.co/cjXqo5t9hJ', 'expanded_url': 'http://www.bjp.org', 'display_url': 'bjp.org', 'indices': [0, 23]}]}, 'description': {'urls': []}}, 'protected': False, 'followers_count': 554697, 'friends_count': 669, 'listed_count': 833, 'created_at': 'Wed Dec 09 05:56:08 +0000 2009', 'favourites_count': 482, 'utc_offset': None, 'time_zone': None, 'geo_enabled': False, 'verified': True, 'statuses_count': 150875, 'lang': None, 'contributors_enabled': False, 'is_translator': False, 'is_translation_enabled': False, 'profile_background_color': 'FAFAFA', 'profile_background_image_url': 'http://abs.twimg.com/images/themes/theme2/bg.gif', 'profile_background_image_url_https': 'https://abs.twimg.com/images/themes/theme2/bg.gif', 'profile_background_tile': False, 'profile_image_url': 'http://pbs.twimg.com/profile_images/1219259785624858625/Ss1vyUHc_normal.jpg', 'profile_image_url_https': 'https://pbs.twimg.com/profile_images/1219259785624858625/Ss1vyUHc_normal.jpg', 'profile_banner_url': 'https://pbs.twimg.com/profile_banners/95588504/1356584215', 'profile_link_color': '1F98C7', 'profile_sidebar_border_color': 'FFFFFF', 'profile_sidebar_fill_color': 'DAECF4', 'profile_text_color': '663B12', 'profile_use_background_image': False, 'has_extended_profile': True, 'default_profile': False, 'default_profile_image': False, 'following': False, 'follow_request_sent': False, 'notifications': False, 'translator_type': 'none'}, id=95588504, id_str='95588504', name='Amit Malviya', screen_name='amitmalviya', location='Delhi, Prayagraj, Kolkata', description=\"National in-charge of BJP's Information & Technology department. Co-incharge West Bengal. Ex-banker, interested in politics and economics. Views personal.\", url='https://t.co/cjXqo5t9hJ', entities={'url': {'urls': [{'url': 'https://t.co/cjXqo5t9hJ', 'expanded_url': 'http://www.bjp.org', 'display_url': 'bjp.org', 'indices': [0, 23]}]}, 'description': {'urls': []}}, protected=False, followers_count=554697, friends_count=669, listed_count=833, created_at=datetime.datetime(2009, 12, 9, 5, 56, 8), favourites_count=482, utc_offset=None, time_zone=None, geo_enabled=False, verified=True, statuses_count=150875, lang=None, contributors_enabled=False, is_translator=False, is_translation_enabled=False, profile_background_color='FAFAFA', profile_background_image_url='http://abs.twimg.com/images/themes/theme2/bg.gif', profile_background_image_url_https='https://abs.twimg.com/images/themes/theme2/bg.gif', profile_background_tile=False, profile_image_url='http://pbs.twimg.com/profile_images/1219259785624858625/Ss1vyUHc_normal.jpg', profile_image_url_https='https://pbs.twimg.com/profile_images/1219259785624858625/Ss1vyUHc_normal.jpg', profile_banner_url='https://pbs.twimg.com/profile_banners/95588504/1356584215', profile_link_color='1F98C7', profile_sidebar_border_color='FFFFFF', profile_sidebar_fill_color='DAECF4', profile_text_color='663B12', profile_use_background_image=False, has_extended_profile=True, default_profile=False, default_profile_image=False, following=False, follow_request_sent=False, notifications=False, translator_type='none'), geo=None, coordinates=None, place=None, contributors=None, is_quote_status=False, retweet_count=85, favorite_count=334, favorited=False, retweeted=False, possibly_sensitive=False, lang='en'), retweet_count=0, favorite_count=1, favorited=False, retweeted=False, possibly_sensitive=False, lang='en') \n",
      "\n",
      ".....................................\n",
      "\n",
      "Status(_api=<tweepy.api.API object at 0x0000021CCA17E9D0>, _json={'created_at': 'Sat Dec 12 06:19:45 +0000 2020', 'id': 1337643282789060609, 'id_str': '1337643282789060609', 'full_text': \"@MaanSinghDhill1 Then it's nothing more than politics.\\nProtest of 100k people won't force centre with 300+ seats to withdraw law.\\nAnd now placards of 'release sharjeel imam' can be seen, how isSharjeel Imam related to farmer.\\nInsteadof behaving like Bhaktas, Chamchas and Gulams, think rationally.\", 'truncated': False, 'display_text_range': [17, 297], 'entities': {'hashtags': [], 'symbols': [], 'user_mentions': [{'screen_name': 'MaanSinghDhill1', 'name': 'Maan Singh Dhillon', 'id': 1310101324445310981, 'id_str': '1310101324445310981', 'indices': [0, 16]}], 'urls': []}, 'metadata': {'iso_language_code': 'en', 'result_type': 'recent'}, 'source': '<a href=\"https://mobile.twitter.com\" rel=\"nofollow\">Twitter Web App</a>', 'in_reply_to_status_id': 1337642381856841728, 'in_reply_to_status_id_str': '1337642381856841728', 'in_reply_to_user_id': 1310101324445310981, 'in_reply_to_user_id_str': '1310101324445310981', 'in_reply_to_screen_name': 'MaanSinghDhill1', 'user': {'id': 811108718200832000, 'id_str': '811108718200832000', 'name': 'Chetan Singh', 'screen_name': 'ChetanSingh63', 'location': 'Punjab, India', 'description': 'Lifelong Learner💫 \\n| BTech (2020-24) at GNDEC LDH PUNJAB | DREAM BIG🌟 |    3 PB BN NCC CADET🇮🇳', 'url': None, 'entities': {'description': {'urls': []}}, 'protected': False, 'followers_count': 30, 'friends_count': 133, 'listed_count': 0, 'created_at': 'Tue Dec 20 07:19:22 +0000 2016', 'favourites_count': 7063, 'utc_offset': None, 'time_zone': None, 'geo_enabled': False, 'verified': False, 'statuses_count': 100, 'lang': None, 'contributors_enabled': False, 'is_translator': False, 'is_translation_enabled': False, 'profile_background_color': 'F5F8FA', 'profile_background_image_url': None, 'profile_background_image_url_https': None, 'profile_background_tile': False, 'profile_image_url': 'http://pbs.twimg.com/profile_images/1297454058081382400/lDOIGfvH_normal.jpg', 'profile_image_url_https': 'https://pbs.twimg.com/profile_images/1297454058081382400/lDOIGfvH_normal.jpg', 'profile_banner_url': 'https://pbs.twimg.com/profile_banners/811108718200832000/1593692823', 'profile_link_color': '1DA1F2', 'profile_sidebar_border_color': 'C0DEED', 'profile_sidebar_fill_color': 'DDEEF6', 'profile_text_color': '333333', 'profile_use_background_image': True, 'has_extended_profile': True, 'default_profile': True, 'default_profile_image': False, 'following': False, 'follow_request_sent': False, 'notifications': False, 'translator_type': 'none'}, 'geo': None, 'coordinates': None, 'place': None, 'contributors': None, 'is_quote_status': False, 'retweet_count': 0, 'favorite_count': 1, 'favorited': False, 'retweeted': False, 'lang': 'en'}, created_at=datetime.datetime(2020, 12, 12, 6, 19, 45), id=1337643282789060609, id_str='1337643282789060609', full_text=\"@MaanSinghDhill1 Then it's nothing more than politics.\\nProtest of 100k people won't force centre with 300+ seats to withdraw law.\\nAnd now placards of 'release sharjeel imam' can be seen, how isSharjeel Imam related to farmer.\\nInsteadof behaving like Bhaktas, Chamchas and Gulams, think rationally.\", truncated=False, display_text_range=[17, 297], entities={'hashtags': [], 'symbols': [], 'user_mentions': [{'screen_name': 'MaanSinghDhill1', 'name': 'Maan Singh Dhillon', 'id': 1310101324445310981, 'id_str': '1310101324445310981', 'indices': [0, 16]}], 'urls': []}, metadata={'iso_language_code': 'en', 'result_type': 'recent'}, source='Twitter Web App', source_url='https://mobile.twitter.com', in_reply_to_status_id=1337642381856841728, in_reply_to_status_id_str='1337642381856841728', in_reply_to_user_id=1310101324445310981, in_reply_to_user_id_str='1310101324445310981', in_reply_to_screen_name='MaanSinghDhill1', author=User(_api=<tweepy.api.API object at 0x0000021CCA17E9D0>, _json={'id': 811108718200832000, 'id_str': '811108718200832000', 'name': 'Chetan Singh', 'screen_name': 'ChetanSingh63', 'location': 'Punjab, India', 'description': 'Lifelong Learner💫 \\n| BTech (2020-24) at GNDEC LDH PUNJAB | DREAM BIG🌟 |    3 PB BN NCC CADET🇮🇳', 'url': None, 'entities': {'description': {'urls': []}}, 'protected': False, 'followers_count': 30, 'friends_count': 133, 'listed_count': 0, 'created_at': 'Tue Dec 20 07:19:22 +0000 2016', 'favourites_count': 7063, 'utc_offset': None, 'time_zone': None, 'geo_enabled': False, 'verified': False, 'statuses_count': 100, 'lang': None, 'contributors_enabled': False, 'is_translator': False, 'is_translation_enabled': False, 'profile_background_color': 'F5F8FA', 'profile_background_image_url': None, 'profile_background_image_url_https': None, 'profile_background_tile': False, 'profile_image_url': 'http://pbs.twimg.com/profile_images/1297454058081382400/lDOIGfvH_normal.jpg', 'profile_image_url_https': 'https://pbs.twimg.com/profile_images/1297454058081382400/lDOIGfvH_normal.jpg', 'profile_banner_url': 'https://pbs.twimg.com/profile_banners/811108718200832000/1593692823', 'profile_link_color': '1DA1F2', 'profile_sidebar_border_color': 'C0DEED', 'profile_sidebar_fill_color': 'DDEEF6', 'profile_text_color': '333333', 'profile_use_background_image': True, 'has_extended_profile': True, 'default_profile': True, 'default_profile_image': False, 'following': False, 'follow_request_sent': False, 'notifications': False, 'translator_type': 'none'}, id=811108718200832000, id_str='811108718200832000', name='Chetan Singh', screen_name='ChetanSingh63', location='Punjab, India', description='Lifelong Learner💫 \\n| BTech (2020-24) at GNDEC LDH PUNJAB | DREAM BIG🌟 |    3 PB BN NCC CADET🇮🇳', url=None, entities={'description': {'urls': []}}, protected=False, followers_count=30, friends_count=133, listed_count=0, created_at=datetime.datetime(2016, 12, 20, 7, 19, 22), favourites_count=7063, utc_offset=None, time_zone=None, geo_enabled=False, verified=False, statuses_count=100, lang=None, contributors_enabled=False, is_translator=False, is_translation_enabled=False, profile_background_color='F5F8FA', profile_background_image_url=None, profile_background_image_url_https=None, profile_background_tile=False, profile_image_url='http://pbs.twimg.com/profile_images/1297454058081382400/lDOIGfvH_normal.jpg', profile_image_url_https='https://pbs.twimg.com/profile_images/1297454058081382400/lDOIGfvH_normal.jpg', profile_banner_url='https://pbs.twimg.com/profile_banners/811108718200832000/1593692823', profile_link_color='1DA1F2', profile_sidebar_border_color='C0DEED', profile_sidebar_fill_color='DDEEF6', profile_text_color='333333', profile_use_background_image=True, has_extended_profile=True, default_profile=True, default_profile_image=False, following=False, follow_request_sent=False, notifications=False, translator_type='none'), user=User(_api=<tweepy.api.API object at 0x0000021CCA17E9D0>, _json={'id': 811108718200832000, 'id_str': '811108718200832000', 'name': 'Chetan Singh', 'screen_name': 'ChetanSingh63', 'location': 'Punjab, India', 'description': 'Lifelong Learner💫 \\n| BTech (2020-24) at GNDEC LDH PUNJAB | DREAM BIG🌟 |    3 PB BN NCC CADET🇮🇳', 'url': None, 'entities': {'description': {'urls': []}}, 'protected': False, 'followers_count': 30, 'friends_count': 133, 'listed_count': 0, 'created_at': 'Tue Dec 20 07:19:22 +0000 2016', 'favourites_count': 7063, 'utc_offset': None, 'time_zone': None, 'geo_enabled': False, 'verified': False, 'statuses_count': 100, 'lang': None, 'contributors_enabled': False, 'is_translator': False, 'is_translation_enabled': False, 'profile_background_color': 'F5F8FA', 'profile_background_image_url': None, 'profile_background_image_url_https': None, 'profile_background_tile': False, 'profile_image_url': 'http://pbs.twimg.com/profile_images/1297454058081382400/lDOIGfvH_normal.jpg', 'profile_image_url_https': 'https://pbs.twimg.com/profile_images/1297454058081382400/lDOIGfvH_normal.jpg', 'profile_banner_url': 'https://pbs.twimg.com/profile_banners/811108718200832000/1593692823', 'profile_link_color': '1DA1F2', 'profile_sidebar_border_color': 'C0DEED', 'profile_sidebar_fill_color': 'DDEEF6', 'profile_text_color': '333333', 'profile_use_background_image': True, 'has_extended_profile': True, 'default_profile': True, 'default_profile_image': False, 'following': False, 'follow_request_sent': False, 'notifications': False, 'translator_type': 'none'}, id=811108718200832000, id_str='811108718200832000', name='Chetan Singh', screen_name='ChetanSingh63', location='Punjab, India', description='Lifelong Learner💫 \\n| BTech (2020-24) at GNDEC LDH PUNJAB | DREAM BIG🌟 |    3 PB BN NCC CADET🇮🇳', url=None, entities={'description': {'urls': []}}, protected=False, followers_count=30, friends_count=133, listed_count=0, created_at=datetime.datetime(2016, 12, 20, 7, 19, 22), favourites_count=7063, utc_offset=None, time_zone=None, geo_enabled=False, verified=False, statuses_count=100, lang=None, contributors_enabled=False, is_translator=False, is_translation_enabled=False, profile_background_color='F5F8FA', profile_background_image_url=None, profile_background_image_url_https=None, profile_background_tile=False, profile_image_url='http://pbs.twimg.com/profile_images/1297454058081382400/lDOIGfvH_normal.jpg', profile_image_url_https='https://pbs.twimg.com/profile_images/1297454058081382400/lDOIGfvH_normal.jpg', profile_banner_url='https://pbs.twimg.com/profile_banners/811108718200832000/1593692823', profile_link_color='1DA1F2', profile_sidebar_border_color='C0DEED', profile_sidebar_fill_color='DDEEF6', profile_text_color='333333', profile_use_background_image=True, has_extended_profile=True, default_profile=True, default_profile_image=False, following=False, follow_request_sent=False, notifications=False, translator_type='none'), geo=None, coordinates=None, place=None, contributors=None, is_quote_status=False, retweet_count=0, favorite_count=1, favorited=False, retweeted=False, lang='en') \n",
      "\n",
      ".....................................\n",
      "\n",
      "Status(_api=<tweepy.api.API object at 0x0000021CCA17E9D0>, _json={'created_at': 'Sat Dec 12 06:13:52 +0000 2020', 'id': 1337641803994918913, 'id_str': '1337641803994918913', 'full_text': \"@KarunaGopal1 Only one percent of total India's population wear turban who are called  Sikhs,  out it 0.20 % are farmers, again against it.0.001 % are doing protest.\\nThis protest is against the new law which gave free hands farmer to sell their products at higher rates which farmer decides.\", 'truncated': False, 'display_text_range': [14, 291], 'entities': {'hashtags': [], 'symbols': [], 'user_mentions': [{'screen_name': 'KarunaGopal1', 'name': 'Karuna Gopal', 'id': 1057537632006168576, 'id_str': '1057537632006168576', 'indices': [0, 13]}], 'urls': []}, 'metadata': {'iso_language_code': 'en', 'result_type': 'recent'}, 'source': '<a href=\"http://twitter.com/download/android\" rel=\"nofollow\">Twitter for Android</a>', 'in_reply_to_status_id': 1337591138169974784, 'in_reply_to_status_id_str': '1337591138169974784', 'in_reply_to_user_id': 1057537632006168576, 'in_reply_to_user_id_str': '1057537632006168576', 'in_reply_to_screen_name': 'KarunaGopal1', 'user': {'id': 722295329538879488, 'id_str': '722295329538879488', 'name': 'sridharamurthy', 'screen_name': 'sridharamurthy7', 'location': 'Bengaluru, India', 'description': 'nationalist,   music lover (karnatic) \\nRT are not endorsement.', 'url': None, 'entities': {'description': {'urls': []}}, 'protected': False, 'followers_count': 605, 'friends_count': 359, 'listed_count': 8, 'created_at': 'Tue Apr 19 05:26:40 +0000 2016', 'favourites_count': 114674, 'utc_offset': None, 'time_zone': None, 'geo_enabled': False, 'verified': False, 'statuses_count': 27097, 'lang': None, 'contributors_enabled': False, 'is_translator': False, 'is_translation_enabled': False, 'profile_background_color': 'F5F8FA', 'profile_background_image_url': None, 'profile_background_image_url_https': None, 'profile_background_tile': False, 'profile_image_url': 'http://pbs.twimg.com/profile_images/947010798991241217/v14ksXvr_normal.jpg', 'profile_image_url_https': 'https://pbs.twimg.com/profile_images/947010798991241217/v14ksXvr_normal.jpg', 'profile_banner_url': 'https://pbs.twimg.com/profile_banners/722295329538879488/1605343797', 'profile_link_color': '1DA1F2', 'profile_sidebar_border_color': 'C0DEED', 'profile_sidebar_fill_color': 'DDEEF6', 'profile_text_color': '333333', 'profile_use_background_image': True, 'has_extended_profile': False, 'default_profile': True, 'default_profile_image': False, 'following': False, 'follow_request_sent': False, 'notifications': False, 'translator_type': 'none'}, 'geo': None, 'coordinates': None, 'place': None, 'contributors': None, 'is_quote_status': False, 'retweet_count': 0, 'favorite_count': 0, 'favorited': False, 'retweeted': False, 'lang': 'en'}, created_at=datetime.datetime(2020, 12, 12, 6, 13, 52), id=1337641803994918913, id_str='1337641803994918913', full_text=\"@KarunaGopal1 Only one percent of total India's population wear turban who are called  Sikhs,  out it 0.20 % are farmers, again against it.0.001 % are doing protest.\\nThis protest is against the new law which gave free hands farmer to sell their products at higher rates which farmer decides.\", truncated=False, display_text_range=[14, 291], entities={'hashtags': [], 'symbols': [], 'user_mentions': [{'screen_name': 'KarunaGopal1', 'name': 'Karuna Gopal', 'id': 1057537632006168576, 'id_str': '1057537632006168576', 'indices': [0, 13]}], 'urls': []}, metadata={'iso_language_code': 'en', 'result_type': 'recent'}, source='Twitter for Android', source_url='http://twitter.com/download/android', in_reply_to_status_id=1337591138169974784, in_reply_to_status_id_str='1337591138169974784', in_reply_to_user_id=1057537632006168576, in_reply_to_user_id_str='1057537632006168576', in_reply_to_screen_name='KarunaGopal1', author=User(_api=<tweepy.api.API object at 0x0000021CCA17E9D0>, _json={'id': 722295329538879488, 'id_str': '722295329538879488', 'name': 'sridharamurthy', 'screen_name': 'sridharamurthy7', 'location': 'Bengaluru, India', 'description': 'nationalist,   music lover (karnatic) \\nRT are not endorsement.', 'url': None, 'entities': {'description': {'urls': []}}, 'protected': False, 'followers_count': 605, 'friends_count': 359, 'listed_count': 8, 'created_at': 'Tue Apr 19 05:26:40 +0000 2016', 'favourites_count': 114674, 'utc_offset': None, 'time_zone': None, 'geo_enabled': False, 'verified': False, 'statuses_count': 27097, 'lang': None, 'contributors_enabled': False, 'is_translator': False, 'is_translation_enabled': False, 'profile_background_color': 'F5F8FA', 'profile_background_image_url': None, 'profile_background_image_url_https': None, 'profile_background_tile': False, 'profile_image_url': 'http://pbs.twimg.com/profile_images/947010798991241217/v14ksXvr_normal.jpg', 'profile_image_url_https': 'https://pbs.twimg.com/profile_images/947010798991241217/v14ksXvr_normal.jpg', 'profile_banner_url': 'https://pbs.twimg.com/profile_banners/722295329538879488/1605343797', 'profile_link_color': '1DA1F2', 'profile_sidebar_border_color': 'C0DEED', 'profile_sidebar_fill_color': 'DDEEF6', 'profile_text_color': '333333', 'profile_use_background_image': True, 'has_extended_profile': False, 'default_profile': True, 'default_profile_image': False, 'following': False, 'follow_request_sent': False, 'notifications': False, 'translator_type': 'none'}, id=722295329538879488, id_str='722295329538879488', name='sridharamurthy', screen_name='sridharamurthy7', location='Bengaluru, India', description='nationalist,   music lover (karnatic) \\nRT are not endorsement.', url=None, entities={'description': {'urls': []}}, protected=False, followers_count=605, friends_count=359, listed_count=8, created_at=datetime.datetime(2016, 4, 19, 5, 26, 40), favourites_count=114674, utc_offset=None, time_zone=None, geo_enabled=False, verified=False, statuses_count=27097, lang=None, contributors_enabled=False, is_translator=False, is_translation_enabled=False, profile_background_color='F5F8FA', profile_background_image_url=None, profile_background_image_url_https=None, profile_background_tile=False, profile_image_url='http://pbs.twimg.com/profile_images/947010798991241217/v14ksXvr_normal.jpg', profile_image_url_https='https://pbs.twimg.com/profile_images/947010798991241217/v14ksXvr_normal.jpg', profile_banner_url='https://pbs.twimg.com/profile_banners/722295329538879488/1605343797', profile_link_color='1DA1F2', profile_sidebar_border_color='C0DEED', profile_sidebar_fill_color='DDEEF6', profile_text_color='333333', profile_use_background_image=True, has_extended_profile=False, default_profile=True, default_profile_image=False, following=False, follow_request_sent=False, notifications=False, translator_type='none'), user=User(_api=<tweepy.api.API object at 0x0000021CCA17E9D0>, _json={'id': 722295329538879488, 'id_str': '722295329538879488', 'name': 'sridharamurthy', 'screen_name': 'sridharamurthy7', 'location': 'Bengaluru, India', 'description': 'nationalist,   music lover (karnatic) \\nRT are not endorsement.', 'url': None, 'entities': {'description': {'urls': []}}, 'protected': False, 'followers_count': 605, 'friends_count': 359, 'listed_count': 8, 'created_at': 'Tue Apr 19 05:26:40 +0000 2016', 'favourites_count': 114674, 'utc_offset': None, 'time_zone': None, 'geo_enabled': False, 'verified': False, 'statuses_count': 27097, 'lang': None, 'contributors_enabled': False, 'is_translator': False, 'is_translation_enabled': False, 'profile_background_color': 'F5F8FA', 'profile_background_image_url': None, 'profile_background_image_url_https': None, 'profile_background_tile': False, 'profile_image_url': 'http://pbs.twimg.com/profile_images/947010798991241217/v14ksXvr_normal.jpg', 'profile_image_url_https': 'https://pbs.twimg.com/profile_images/947010798991241217/v14ksXvr_normal.jpg', 'profile_banner_url': 'https://pbs.twimg.com/profile_banners/722295329538879488/1605343797', 'profile_link_color': '1DA1F2', 'profile_sidebar_border_color': 'C0DEED', 'profile_sidebar_fill_color': 'DDEEF6', 'profile_text_color': '333333', 'profile_use_background_image': True, 'has_extended_profile': False, 'default_profile': True, 'default_profile_image': False, 'following': False, 'follow_request_sent': False, 'notifications': False, 'translator_type': 'none'}, id=722295329538879488, id_str='722295329538879488', name='sridharamurthy', screen_name='sridharamurthy7', location='Bengaluru, India', description='nationalist,   music lover (karnatic) \\nRT are not endorsement.', url=None, entities={'description': {'urls': []}}, protected=False, followers_count=605, friends_count=359, listed_count=8, created_at=datetime.datetime(2016, 4, 19, 5, 26, 40), favourites_count=114674, utc_offset=None, time_zone=None, geo_enabled=False, verified=False, statuses_count=27097, lang=None, contributors_enabled=False, is_translator=False, is_translation_enabled=False, profile_background_color='F5F8FA', profile_background_image_url=None, profile_background_image_url_https=None, profile_background_tile=False, profile_image_url='http://pbs.twimg.com/profile_images/947010798991241217/v14ksXvr_normal.jpg', profile_image_url_https='https://pbs.twimg.com/profile_images/947010798991241217/v14ksXvr_normal.jpg', profile_banner_url='https://pbs.twimg.com/profile_banners/722295329538879488/1605343797', profile_link_color='1DA1F2', profile_sidebar_border_color='C0DEED', profile_sidebar_fill_color='DDEEF6', profile_text_color='333333', profile_use_background_image=True, has_extended_profile=False, default_profile=True, default_profile_image=False, following=False, follow_request_sent=False, notifications=False, translator_type='none'), geo=None, coordinates=None, place=None, contributors=None, is_quote_status=False, retweet_count=0, favorite_count=0, favorited=False, retweeted=False, lang='en') \n",
      "\n",
      ".....................................\n",
      "\n",
      "Status(_api=<tweepy.api.API object at 0x0000021CCA17E9D0>, _json={'created_at': 'Sat Dec 12 06:12:28 +0000 2020', 'id': 1337641448670314499, 'id_str': '1337641448670314499', 'full_text': '@shenoy316 @Sudhatha1 @Chandankrishn13 @_sabanaqvi @nstomar There is law for farmers from last 60/70 years, can this laws useful to farmers?\\nmaharashtra s. pawar holding oninion, potato market.\\nMamta holding cold storage in bangal.\\nPunjab prakash singh badal pls serch about him.\\nFarmer agitation start with we require msp,\\nNow where they?', 'truncated': False, 'display_text_range': [60, 339], 'entities': {'hashtags': [], 'symbols': [], 'user_mentions': [{'screen_name': 'shenoy316', 'name': 'Aswith', 'id': 101185446, 'id_str': '101185446', 'indices': [0, 10]}, {'screen_name': 'Sudhatha1', 'name': 'Sudhatha', 'id': 1297848549762199553, 'id_str': '1297848549762199553', 'indices': [11, 21]}, {'screen_name': 'Chandankrishn13', 'name': 'Chandan .K', 'id': 4793935891, 'id_str': '4793935891', 'indices': [22, 38]}, {'screen_name': '_sabanaqvi', 'name': 'Saba Naqvi', 'id': 1019469630, 'id_str': '1019469630', 'indices': [39, 50]}, {'screen_name': 'nstomar', 'name': 'Narendra Singh Tomar', 'id': 2591161099, 'id_str': '2591161099', 'indices': [51, 59]}], 'urls': []}, 'metadata': {'iso_language_code': 'en', 'result_type': 'recent'}, 'source': '<a href=\"http://twitter.com/download/android\" rel=\"nofollow\">Twitter for Android</a>', 'in_reply_to_status_id': 1337609308448587777, 'in_reply_to_status_id_str': '1337609308448587777', 'in_reply_to_user_id': 101185446, 'in_reply_to_user_id_str': '101185446', 'in_reply_to_screen_name': 'shenoy316', 'user': {'id': 1120243914470907904, 'id_str': '1120243914470907904', 'name': 'R D', 'screen_name': 'RD47344684', 'location': 'Hindustan', 'description': 'HINDU, congi choro ka ghor virodhi.', 'url': None, 'entities': {'description': {'urls': []}}, 'protected': False, 'followers_count': 470, 'friends_count': 1459, 'listed_count': 0, 'created_at': 'Mon Apr 22 08:32:17 +0000 2019', 'favourites_count': 13767, 'utc_offset': None, 'time_zone': None, 'geo_enabled': True, 'verified': False, 'statuses_count': 13501, 'lang': None, 'contributors_enabled': False, 'is_translator': False, 'is_translation_enabled': False, 'profile_background_color': 'F5F8FA', 'profile_background_image_url': None, 'profile_background_image_url_https': None, 'profile_background_tile': False, 'profile_image_url': 'http://pbs.twimg.com/profile_images/1126337435091197952/LXRvGmFP_normal.jpg', 'profile_image_url_https': 'https://pbs.twimg.com/profile_images/1126337435091197952/LXRvGmFP_normal.jpg', 'profile_banner_url': 'https://pbs.twimg.com/profile_banners/1120243914470907904/1557374737', 'profile_link_color': '1DA1F2', 'profile_sidebar_border_color': 'C0DEED', 'profile_sidebar_fill_color': 'DDEEF6', 'profile_text_color': '333333', 'profile_use_background_image': True, 'has_extended_profile': False, 'default_profile': True, 'default_profile_image': False, 'following': False, 'follow_request_sent': False, 'notifications': False, 'translator_type': 'none'}, 'geo': None, 'coordinates': None, 'place': None, 'contributors': None, 'is_quote_status': False, 'retweet_count': 0, 'favorite_count': 0, 'favorited': False, 'retweeted': False, 'lang': 'en'}, created_at=datetime.datetime(2020, 12, 12, 6, 12, 28), id=1337641448670314499, id_str='1337641448670314499', full_text='@shenoy316 @Sudhatha1 @Chandankrishn13 @_sabanaqvi @nstomar There is law for farmers from last 60/70 years, can this laws useful to farmers?\\nmaharashtra s. pawar holding oninion, potato market.\\nMamta holding cold storage in bangal.\\nPunjab prakash singh badal pls serch about him.\\nFarmer agitation start with we require msp,\\nNow where they?', truncated=False, display_text_range=[60, 339], entities={'hashtags': [], 'symbols': [], 'user_mentions': [{'screen_name': 'shenoy316', 'name': 'Aswith', 'id': 101185446, 'id_str': '101185446', 'indices': [0, 10]}, {'screen_name': 'Sudhatha1', 'name': 'Sudhatha', 'id': 1297848549762199553, 'id_str': '1297848549762199553', 'indices': [11, 21]}, {'screen_name': 'Chandankrishn13', 'name': 'Chandan .K', 'id': 4793935891, 'id_str': '4793935891', 'indices': [22, 38]}, {'screen_name': '_sabanaqvi', 'name': 'Saba Naqvi', 'id': 1019469630, 'id_str': '1019469630', 'indices': [39, 50]}, {'screen_name': 'nstomar', 'name': 'Narendra Singh Tomar', 'id': 2591161099, 'id_str': '2591161099', 'indices': [51, 59]}], 'urls': []}, metadata={'iso_language_code': 'en', 'result_type': 'recent'}, source='Twitter for Android', source_url='http://twitter.com/download/android', in_reply_to_status_id=1337609308448587777, in_reply_to_status_id_str='1337609308448587777', in_reply_to_user_id=101185446, in_reply_to_user_id_str='101185446', in_reply_to_screen_name='shenoy316', author=User(_api=<tweepy.api.API object at 0x0000021CCA17E9D0>, _json={'id': 1120243914470907904, 'id_str': '1120243914470907904', 'name': 'R D', 'screen_name': 'RD47344684', 'location': 'Hindustan', 'description': 'HINDU, congi choro ka ghor virodhi.', 'url': None, 'entities': {'description': {'urls': []}}, 'protected': False, 'followers_count': 470, 'friends_count': 1459, 'listed_count': 0, 'created_at': 'Mon Apr 22 08:32:17 +0000 2019', 'favourites_count': 13767, 'utc_offset': None, 'time_zone': None, 'geo_enabled': True, 'verified': False, 'statuses_count': 13501, 'lang': None, 'contributors_enabled': False, 'is_translator': False, 'is_translation_enabled': False, 'profile_background_color': 'F5F8FA', 'profile_background_image_url': None, 'profile_background_image_url_https': None, 'profile_background_tile': False, 'profile_image_url': 'http://pbs.twimg.com/profile_images/1126337435091197952/LXRvGmFP_normal.jpg', 'profile_image_url_https': 'https://pbs.twimg.com/profile_images/1126337435091197952/LXRvGmFP_normal.jpg', 'profile_banner_url': 'https://pbs.twimg.com/profile_banners/1120243914470907904/1557374737', 'profile_link_color': '1DA1F2', 'profile_sidebar_border_color': 'C0DEED', 'profile_sidebar_fill_color': 'DDEEF6', 'profile_text_color': '333333', 'profile_use_background_image': True, 'has_extended_profile': False, 'default_profile': True, 'default_profile_image': False, 'following': False, 'follow_request_sent': False, 'notifications': False, 'translator_type': 'none'}, id=1120243914470907904, id_str='1120243914470907904', name='R D', screen_name='RD47344684', location='Hindustan', description='HINDU, congi choro ka ghor virodhi.', url=None, entities={'description': {'urls': []}}, protected=False, followers_count=470, friends_count=1459, listed_count=0, created_at=datetime.datetime(2019, 4, 22, 8, 32, 17), favourites_count=13767, utc_offset=None, time_zone=None, geo_enabled=True, verified=False, statuses_count=13501, lang=None, contributors_enabled=False, is_translator=False, is_translation_enabled=False, profile_background_color='F5F8FA', profile_background_image_url=None, profile_background_image_url_https=None, profile_background_tile=False, profile_image_url='http://pbs.twimg.com/profile_images/1126337435091197952/LXRvGmFP_normal.jpg', profile_image_url_https='https://pbs.twimg.com/profile_images/1126337435091197952/LXRvGmFP_normal.jpg', profile_banner_url='https://pbs.twimg.com/profile_banners/1120243914470907904/1557374737', profile_link_color='1DA1F2', profile_sidebar_border_color='C0DEED', profile_sidebar_fill_color='DDEEF6', profile_text_color='333333', profile_use_background_image=True, has_extended_profile=False, default_profile=True, default_profile_image=False, following=False, follow_request_sent=False, notifications=False, translator_type='none'), user=User(_api=<tweepy.api.API object at 0x0000021CCA17E9D0>, _json={'id': 1120243914470907904, 'id_str': '1120243914470907904', 'name': 'R D', 'screen_name': 'RD47344684', 'location': 'Hindustan', 'description': 'HINDU, congi choro ka ghor virodhi.', 'url': None, 'entities': {'description': {'urls': []}}, 'protected': False, 'followers_count': 470, 'friends_count': 1459, 'listed_count': 0, 'created_at': 'Mon Apr 22 08:32:17 +0000 2019', 'favourites_count': 13767, 'utc_offset': None, 'time_zone': None, 'geo_enabled': True, 'verified': False, 'statuses_count': 13501, 'lang': None, 'contributors_enabled': False, 'is_translator': False, 'is_translation_enabled': False, 'profile_background_color': 'F5F8FA', 'profile_background_image_url': None, 'profile_background_image_url_https': None, 'profile_background_tile': False, 'profile_image_url': 'http://pbs.twimg.com/profile_images/1126337435091197952/LXRvGmFP_normal.jpg', 'profile_image_url_https': 'https://pbs.twimg.com/profile_images/1126337435091197952/LXRvGmFP_normal.jpg', 'profile_banner_url': 'https://pbs.twimg.com/profile_banners/1120243914470907904/1557374737', 'profile_link_color': '1DA1F2', 'profile_sidebar_border_color': 'C0DEED', 'profile_sidebar_fill_color': 'DDEEF6', 'profile_text_color': '333333', 'profile_use_background_image': True, 'has_extended_profile': False, 'default_profile': True, 'default_profile_image': False, 'following': False, 'follow_request_sent': False, 'notifications': False, 'translator_type': 'none'}, id=1120243914470907904, id_str='1120243914470907904', name='R D', screen_name='RD47344684', location='Hindustan', description='HINDU, congi choro ka ghor virodhi.', url=None, entities={'description': {'urls': []}}, protected=False, followers_count=470, friends_count=1459, listed_count=0, created_at=datetime.datetime(2019, 4, 22, 8, 32, 17), favourites_count=13767, utc_offset=None, time_zone=None, geo_enabled=True, verified=False, statuses_count=13501, lang=None, contributors_enabled=False, is_translator=False, is_translation_enabled=False, profile_background_color='F5F8FA', profile_background_image_url=None, profile_background_image_url_https=None, profile_background_tile=False, profile_image_url='http://pbs.twimg.com/profile_images/1126337435091197952/LXRvGmFP_normal.jpg', profile_image_url_https='https://pbs.twimg.com/profile_images/1126337435091197952/LXRvGmFP_normal.jpg', profile_banner_url='https://pbs.twimg.com/profile_banners/1120243914470907904/1557374737', profile_link_color='1DA1F2', profile_sidebar_border_color='C0DEED', profile_sidebar_fill_color='DDEEF6', profile_text_color='333333', profile_use_background_image=True, has_extended_profile=False, default_profile=True, default_profile_image=False, following=False, follow_request_sent=False, notifications=False, translator_type='none'), geo=None, coordinates=None, place=None, contributors=None, is_quote_status=False, retweet_count=0, favorite_count=0, favorited=False, retweeted=False, lang='en') \n",
      "\n",
      ".....................................\n",
      "\n"
     ]
    }
   ],
   "source": [
    "Tweets = api.search( query , count=10 , lang='en' , exclude='retweets' , tweet_mode='extended' )\n",
    "# tweet_mode='extended'\n",
    "# tweet_mode='compat'\n",
    "\n",
    "for tweet in Tweets:\n",
    "    print(tweet,\"\\n\")\n",
    "    print(\".....................................\\n\")"
   ]
  },
  {
   "cell_type": "markdown",
   "metadata": {},
   "source": [
    "### Get the tweets and some Attributes"
   ]
  },
  {
   "cell_type": "code",
   "execution_count": 6,
   "metadata": {},
   "outputs": [
    {
     "name": "stdout",
     "output_type": "stream",
     "text": [
      "Empty DataFrame\n",
      "Columns: [Tweets, User, User_statuses_count, user_followers, User_location, User_verified, fav_count, rt_count, tweet_date]\n",
      "Index: []\n",
      "(0, 9)\n"
     ]
    }
   ],
   "source": [
    "df = pd.DataFrame(columns = ['Tweets' , 'User' , 'User_statuses_count' , \n",
    "                            'user_followers' , 'User_location' , 'User_verified' ,\n",
    "                            'fav_count' , 'rt_count' , 'tweet_date'] )\n",
    "print(df)\n",
    "print(df.shape)"
   ]
  },
  {
   "cell_type": "code",
   "execution_count": 7,
   "metadata": {},
   "outputs": [],
   "source": [
    "def stream(data, file_name):\n",
    "    i = 0\n",
    "    for tweet in tweepy.Cursor(api.search, q=data, count=100, lang='en').items():\n",
    "        print(i, end='\\r')\n",
    "        df.loc[i, 'Tweets'] = tweet.text\n",
    "        df.loc[i, 'User'] = tweet.user.name\n",
    "        df.loc[i, 'User_statuses_count'] = tweet.user.statuses_count\n",
    "        df.loc[i, 'user_followers'] = tweet.user.followers_count\n",
    "        df.loc[i, 'User_location'] = tweet.user.location\n",
    "        df.loc[i, 'User_verified'] = tweet.user.verified\n",
    "        df.loc[i, 'fav_count'] = tweet.favorite_count\n",
    "        df.loc[i, 'rt_count'] = tweet.retweet_count\n",
    "        df.loc[i, 'tweet_date'] = tweet.created_at\n",
    "        df.to_excel('{}.xlsx'.format(file_name))\n",
    "        i = i+1\n",
    "        if i == 1000:\n",
    "            break\n",
    "        else:\n",
    "            pass"
   ]
  },
  {
   "cell_type": "code",
   "execution_count": 8,
   "metadata": {},
   "outputs": [
    {
     "name": "stdout",
     "output_type": "stream",
     "text": [
      "223\r"
     ]
    }
   ],
   "source": [
    "stream(data=[query] , file_name='farmers')"
   ]
  },
  {
   "cell_type": "code",
   "execution_count": 9,
   "metadata": {},
   "outputs": [
    {
     "data": {
      "text/html": [
       "<div>\n",
       "<style scoped>\n",
       "    .dataframe tbody tr th:only-of-type {\n",
       "        vertical-align: middle;\n",
       "    }\n",
       "\n",
       "    .dataframe tbody tr th {\n",
       "        vertical-align: top;\n",
       "    }\n",
       "\n",
       "    .dataframe thead th {\n",
       "        text-align: right;\n",
       "    }\n",
       "</style>\n",
       "<table border=\"1\" class=\"dataframe\">\n",
       "  <thead>\n",
       "    <tr style=\"text-align: right;\">\n",
       "      <th></th>\n",
       "      <th>Tweets</th>\n",
       "      <th>User</th>\n",
       "      <th>User_statuses_count</th>\n",
       "      <th>user_followers</th>\n",
       "      <th>User_location</th>\n",
       "      <th>User_verified</th>\n",
       "      <th>fav_count</th>\n",
       "      <th>rt_count</th>\n",
       "      <th>tweet_date</th>\n",
       "    </tr>\n",
       "  </thead>\n",
       "  <tbody>\n",
       "    <tr>\n",
       "      <th>0</th>\n",
       "      <td>I want Shri @RahulGandhi must come in front of...</td>\n",
       "      <td>Ashok K Singh 🇮🇳</td>\n",
       "      <td>5682</td>\n",
       "      <td>1437</td>\n",
       "      <td>New Delhi, INDIA</td>\n",
       "      <td>False</td>\n",
       "      <td>1</td>\n",
       "      <td>0</td>\n",
       "      <td>2020-12-11 19:31:49</td>\n",
       "    </tr>\n",
       "    <tr>\n",
       "      <th>1</th>\n",
       "      <td>@nstomar @ZeeNews Instead of talking with thes...</td>\n",
       "      <td>Chandan Raj</td>\n",
       "      <td>1379</td>\n",
       "      <td>132</td>\n",
       "      <td>Nowhere</td>\n",
       "      <td>False</td>\n",
       "      <td>0</td>\n",
       "      <td>0</td>\n",
       "      <td>2020-12-11 19:01:27</td>\n",
       "    </tr>\n",
       "    <tr>\n",
       "      <th>2</th>\n",
       "      <td>#farmersprotest \\nBy making these farmer's law...</td>\n",
       "      <td>PRINCE KUMAR</td>\n",
       "      <td>15</td>\n",
       "      <td>1</td>\n",
       "      <td></td>\n",
       "      <td>False</td>\n",
       "      <td>2</td>\n",
       "      <td>0</td>\n",
       "      <td>2020-12-11 12:24:44</td>\n",
       "    </tr>\n",
       "    <tr>\n",
       "      <th>3</th>\n",
       "      <td>#farmersprotest \\nThese three farmer's amendme...</td>\n",
       "      <td>PRINCE KUMAR</td>\n",
       "      <td>15</td>\n",
       "      <td>1</td>\n",
       "      <td></td>\n",
       "      <td>False</td>\n",
       "      <td>0</td>\n",
       "      <td>0</td>\n",
       "      <td>2020-12-11 12:08:32</td>\n",
       "    </tr>\n",
       "    <tr>\n",
       "      <th>4</th>\n",
       "      <td>#StopFarmerPolitics It's just fake protest per...</td>\n",
       "      <td>Sumanohar Vuchi</td>\n",
       "      <td>88</td>\n",
       "      <td>14</td>\n",
       "      <td>Nellore, India</td>\n",
       "      <td>False</td>\n",
       "      <td>1</td>\n",
       "      <td>0</td>\n",
       "      <td>2020-12-11 10:09:01</td>\n",
       "    </tr>\n",
       "  </tbody>\n",
       "</table>\n",
       "</div>"
      ],
      "text/plain": [
       "                                              Tweets              User  \\\n",
       "0  I want Shri @RahulGandhi must come in front of...  Ashok K Singh 🇮🇳   \n",
       "1  @nstomar @ZeeNews Instead of talking with thes...       Chandan Raj   \n",
       "2  #farmersprotest \\nBy making these farmer's law...      PRINCE KUMAR   \n",
       "3  #farmersprotest \\nThese three farmer's amendme...      PRINCE KUMAR   \n",
       "4  #StopFarmerPolitics It's just fake protest per...   Sumanohar Vuchi   \n",
       "\n",
       "  User_statuses_count user_followers     User_location User_verified  \\\n",
       "0                5682           1437  New Delhi, INDIA         False   \n",
       "1                1379            132          Nowhere          False   \n",
       "2                  15              1                           False   \n",
       "3                  15              1                           False   \n",
       "4                  88             14    Nellore, India         False   \n",
       "\n",
       "  fav_count rt_count           tweet_date  \n",
       "0         1        0  2020-12-11 19:31:49  \n",
       "1         0        0  2020-12-11 19:01:27  \n",
       "2         2        0  2020-12-11 12:24:44  \n",
       "3         0        0  2020-12-11 12:08:32  \n",
       "4         1        0  2020-12-11 10:09:01  "
      ]
     },
     "execution_count": 9,
     "metadata": {},
     "output_type": "execute_result"
    }
   ],
   "source": [
    "df.head()"
   ]
  },
  {
   "cell_type": "raw",
   "metadata": {},
   "source": [
    "Sentiment(polarity, subjectivity)\n",
    "\n",
    "Polarity score: [-1 , +1]\n",
    "\n",
    "Subjectivity: [0.0 , 1.0] \n",
    "where 0.0 is very Objective and 1.0 is very Subjective."
   ]
  },
  {
   "cell_type": "code",
   "execution_count": 10,
   "metadata": {},
   "outputs": [],
   "source": [
    "from textblob import TextBlob"
   ]
  },
  {
   "cell_type": "code",
   "execution_count": 11,
   "metadata": {},
   "outputs": [],
   "source": [
    "import re\n",
    "def clean_tweet(tweet):\n",
    "    return ' '.join(re.sub('(@[A-Za-z0-9]+)|([^0-9A-Za-z \\t])|(\\w+:\\/\\/\\S+)', ' ', tweet).split())"
   ]
  },
  {
   "cell_type": "code",
   "execution_count": 12,
   "metadata": {},
   "outputs": [],
   "source": [
    "def analyze_sentiment(tweet):\n",
    "    analysis = TextBlob(tweet)\n",
    "    if analysis.sentiment.polarity > 0:\n",
    "        return 'Positive'\n",
    "    elif analysis.sentiment.polarity == 0:\n",
    "        return 'Neutral'\n",
    "    else:\n",
    "        return 'Negative'"
   ]
  },
  {
   "cell_type": "code",
   "execution_count": 13,
   "metadata": {},
   "outputs": [],
   "source": [
    "df['clean_tweet'] = df['Tweets'].apply(lambda x : clean_tweet(x))"
   ]
  },
  {
   "cell_type": "code",
   "execution_count": 14,
   "metadata": {},
   "outputs": [
    {
     "data": {
      "text/html": [
       "<div>\n",
       "<style scoped>\n",
       "    .dataframe tbody tr th:only-of-type {\n",
       "        vertical-align: middle;\n",
       "    }\n",
       "\n",
       "    .dataframe tbody tr th {\n",
       "        vertical-align: top;\n",
       "    }\n",
       "\n",
       "    .dataframe thead th {\n",
       "        text-align: right;\n",
       "    }\n",
       "</style>\n",
       "<table border=\"1\" class=\"dataframe\">\n",
       "  <thead>\n",
       "    <tr style=\"text-align: right;\">\n",
       "      <th></th>\n",
       "      <th>Tweets</th>\n",
       "      <th>User</th>\n",
       "      <th>User_statuses_count</th>\n",
       "      <th>user_followers</th>\n",
       "      <th>User_location</th>\n",
       "      <th>User_verified</th>\n",
       "      <th>fav_count</th>\n",
       "      <th>rt_count</th>\n",
       "      <th>tweet_date</th>\n",
       "      <th>clean_tweet</th>\n",
       "    </tr>\n",
       "  </thead>\n",
       "  <tbody>\n",
       "    <tr>\n",
       "      <th>0</th>\n",
       "      <td>I want Shri @RahulGandhi must come in front of...</td>\n",
       "      <td>Ashok K Singh 🇮🇳</td>\n",
       "      <td>5682</td>\n",
       "      <td>1437</td>\n",
       "      <td>New Delhi, INDIA</td>\n",
       "      <td>False</td>\n",
       "      <td>1</td>\n",
       "      <td>0</td>\n",
       "      <td>2020-12-11 19:31:49</td>\n",
       "      <td>I want Shri must come in front of media and ex...</td>\n",
       "    </tr>\n",
       "    <tr>\n",
       "      <th>1</th>\n",
       "      <td>@nstomar @ZeeNews Instead of talking with thes...</td>\n",
       "      <td>Chandan Raj</td>\n",
       "      <td>1379</td>\n",
       "      <td>132</td>\n",
       "      <td>Nowhere</td>\n",
       "      <td>False</td>\n",
       "      <td>0</td>\n",
       "      <td>0</td>\n",
       "      <td>2020-12-11 19:01:27</td>\n",
       "      <td>Instead of talking with these go and talk to f...</td>\n",
       "    </tr>\n",
       "    <tr>\n",
       "      <th>2</th>\n",
       "      <td>#farmersprotest \\nBy making these farmer's law...</td>\n",
       "      <td>PRINCE KUMAR</td>\n",
       "      <td>15</td>\n",
       "      <td>1</td>\n",
       "      <td></td>\n",
       "      <td>False</td>\n",
       "      <td>2</td>\n",
       "      <td>0</td>\n",
       "      <td>2020-12-11 12:24:44</td>\n",
       "      <td>farmersprotest By making these farmer s law Ce...</td>\n",
       "    </tr>\n",
       "    <tr>\n",
       "      <th>3</th>\n",
       "      <td>#farmersprotest \\nThese three farmer's amendme...</td>\n",
       "      <td>PRINCE KUMAR</td>\n",
       "      <td>15</td>\n",
       "      <td>1</td>\n",
       "      <td></td>\n",
       "      <td>False</td>\n",
       "      <td>0</td>\n",
       "      <td>0</td>\n",
       "      <td>2020-12-11 12:08:32</td>\n",
       "      <td>farmersprotest These three farmer s amendment ...</td>\n",
       "    </tr>\n",
       "    <tr>\n",
       "      <th>4</th>\n",
       "      <td>#StopFarmerPolitics It's just fake protest per...</td>\n",
       "      <td>Sumanohar Vuchi</td>\n",
       "      <td>88</td>\n",
       "      <td>14</td>\n",
       "      <td>Nellore, India</td>\n",
       "      <td>False</td>\n",
       "      <td>1</td>\n",
       "      <td>0</td>\n",
       "      <td>2020-12-11 10:09:01</td>\n",
       "      <td>StopFarmerPolitics It s just fake protest perf...</td>\n",
       "    </tr>\n",
       "  </tbody>\n",
       "</table>\n",
       "</div>"
      ],
      "text/plain": [
       "                                              Tweets              User  \\\n",
       "0  I want Shri @RahulGandhi must come in front of...  Ashok K Singh 🇮🇳   \n",
       "1  @nstomar @ZeeNews Instead of talking with thes...       Chandan Raj   \n",
       "2  #farmersprotest \\nBy making these farmer's law...      PRINCE KUMAR   \n",
       "3  #farmersprotest \\nThese three farmer's amendme...      PRINCE KUMAR   \n",
       "4  #StopFarmerPolitics It's just fake protest per...   Sumanohar Vuchi   \n",
       "\n",
       "  User_statuses_count user_followers     User_location User_verified  \\\n",
       "0                5682           1437  New Delhi, INDIA         False   \n",
       "1                1379            132          Nowhere          False   \n",
       "2                  15              1                           False   \n",
       "3                  15              1                           False   \n",
       "4                  88             14    Nellore, India         False   \n",
       "\n",
       "  fav_count rt_count           tweet_date  \\\n",
       "0         1        0  2020-12-11 19:31:49   \n",
       "1         0        0  2020-12-11 19:01:27   \n",
       "2         2        0  2020-12-11 12:24:44   \n",
       "3         0        0  2020-12-11 12:08:32   \n",
       "4         1        0  2020-12-11 10:09:01   \n",
       "\n",
       "                                         clean_tweet  \n",
       "0  I want Shri must come in front of media and ex...  \n",
       "1  Instead of talking with these go and talk to f...  \n",
       "2  farmersprotest By making these farmer s law Ce...  \n",
       "3  farmersprotest These three farmer s amendment ...  \n",
       "4  StopFarmerPolitics It s just fake protest perf...  "
      ]
     },
     "execution_count": 14,
     "metadata": {},
     "output_type": "execute_result"
    }
   ],
   "source": [
    "df.head()"
   ]
  },
  {
   "cell_type": "code",
   "execution_count": 15,
   "metadata": {},
   "outputs": [
    {
     "data": {
      "text/html": [
       "<div>\n",
       "<style scoped>\n",
       "    .dataframe tbody tr th:only-of-type {\n",
       "        vertical-align: middle;\n",
       "    }\n",
       "\n",
       "    .dataframe tbody tr th {\n",
       "        vertical-align: top;\n",
       "    }\n",
       "\n",
       "    .dataframe thead th {\n",
       "        text-align: right;\n",
       "    }\n",
       "</style>\n",
       "<table border=\"1\" class=\"dataframe\">\n",
       "  <thead>\n",
       "    <tr style=\"text-align: right;\">\n",
       "      <th></th>\n",
       "      <th>Tweets</th>\n",
       "      <th>User</th>\n",
       "      <th>User_statuses_count</th>\n",
       "      <th>user_followers</th>\n",
       "      <th>User_location</th>\n",
       "      <th>User_verified</th>\n",
       "      <th>fav_count</th>\n",
       "      <th>rt_count</th>\n",
       "      <th>tweet_date</th>\n",
       "      <th>clean_tweet</th>\n",
       "      <th>Sentiment</th>\n",
       "    </tr>\n",
       "  </thead>\n",
       "  <tbody>\n",
       "    <tr>\n",
       "      <th>0</th>\n",
       "      <td>I want Shri @RahulGandhi must come in front of...</td>\n",
       "      <td>Ashok K Singh 🇮🇳</td>\n",
       "      <td>5682</td>\n",
       "      <td>1437</td>\n",
       "      <td>New Delhi, INDIA</td>\n",
       "      <td>False</td>\n",
       "      <td>1</td>\n",
       "      <td>0</td>\n",
       "      <td>2020-12-11 19:31:49</td>\n",
       "      <td>I want Shri must come in front of media and ex...</td>\n",
       "      <td>Positive</td>\n",
       "    </tr>\n",
       "    <tr>\n",
       "      <th>1</th>\n",
       "      <td>@nstomar @ZeeNews Instead of talking with thes...</td>\n",
       "      <td>Chandan Raj</td>\n",
       "      <td>1379</td>\n",
       "      <td>132</td>\n",
       "      <td>Nowhere</td>\n",
       "      <td>False</td>\n",
       "      <td>0</td>\n",
       "      <td>0</td>\n",
       "      <td>2020-12-11 19:01:27</td>\n",
       "      <td>Instead of talking with these go and talk to f...</td>\n",
       "      <td>Neutral</td>\n",
       "    </tr>\n",
       "    <tr>\n",
       "      <th>2</th>\n",
       "      <td>#farmersprotest \\nBy making these farmer's law...</td>\n",
       "      <td>PRINCE KUMAR</td>\n",
       "      <td>15</td>\n",
       "      <td>1</td>\n",
       "      <td></td>\n",
       "      <td>False</td>\n",
       "      <td>2</td>\n",
       "      <td>0</td>\n",
       "      <td>2020-12-11 12:24:44</td>\n",
       "      <td>farmersprotest By making these farmer s law Ce...</td>\n",
       "      <td>Negative</td>\n",
       "    </tr>\n",
       "    <tr>\n",
       "      <th>3</th>\n",
       "      <td>#farmersprotest \\nThese three farmer's amendme...</td>\n",
       "      <td>PRINCE KUMAR</td>\n",
       "      <td>15</td>\n",
       "      <td>1</td>\n",
       "      <td></td>\n",
       "      <td>False</td>\n",
       "      <td>0</td>\n",
       "      <td>0</td>\n",
       "      <td>2020-12-11 12:08:32</td>\n",
       "      <td>farmersprotest These three farmer s amendment ...</td>\n",
       "      <td>Negative</td>\n",
       "    </tr>\n",
       "    <tr>\n",
       "      <th>4</th>\n",
       "      <td>#StopFarmerPolitics It's just fake protest per...</td>\n",
       "      <td>Sumanohar Vuchi</td>\n",
       "      <td>88</td>\n",
       "      <td>14</td>\n",
       "      <td>Nellore, India</td>\n",
       "      <td>False</td>\n",
       "      <td>1</td>\n",
       "      <td>0</td>\n",
       "      <td>2020-12-11 10:09:01</td>\n",
       "      <td>StopFarmerPolitics It s just fake protest perf...</td>\n",
       "      <td>Positive</td>\n",
       "    </tr>\n",
       "  </tbody>\n",
       "</table>\n",
       "</div>"
      ],
      "text/plain": [
       "                                              Tweets              User  \\\n",
       "0  I want Shri @RahulGandhi must come in front of...  Ashok K Singh 🇮🇳   \n",
       "1  @nstomar @ZeeNews Instead of talking with thes...       Chandan Raj   \n",
       "2  #farmersprotest \\nBy making these farmer's law...      PRINCE KUMAR   \n",
       "3  #farmersprotest \\nThese three farmer's amendme...      PRINCE KUMAR   \n",
       "4  #StopFarmerPolitics It's just fake protest per...   Sumanohar Vuchi   \n",
       "\n",
       "  User_statuses_count user_followers     User_location User_verified  \\\n",
       "0                5682           1437  New Delhi, INDIA         False   \n",
       "1                1379            132          Nowhere          False   \n",
       "2                  15              1                           False   \n",
       "3                  15              1                           False   \n",
       "4                  88             14    Nellore, India         False   \n",
       "\n",
       "  fav_count rt_count           tweet_date  \\\n",
       "0         1        0  2020-12-11 19:31:49   \n",
       "1         0        0  2020-12-11 19:01:27   \n",
       "2         2        0  2020-12-11 12:24:44   \n",
       "3         0        0  2020-12-11 12:08:32   \n",
       "4         1        0  2020-12-11 10:09:01   \n",
       "\n",
       "                                         clean_tweet Sentiment  \n",
       "0  I want Shri must come in front of media and ex...  Positive  \n",
       "1  Instead of talking with these go and talk to f...   Neutral  \n",
       "2  farmersprotest By making these farmer s law Ce...  Negative  \n",
       "3  farmersprotest These three farmer s amendment ...  Negative  \n",
       "4  StopFarmerPolitics It s just fake protest perf...  Positive  "
      ]
     },
     "execution_count": 15,
     "metadata": {},
     "output_type": "execute_result"
    }
   ],
   "source": [
    "df['Sentiment'] = df['clean_tweet'].apply(lambda x : analyze_sentiment(x) )\n",
    "df.head()"
   ]
  },
  {
   "cell_type": "markdown",
   "metadata": {},
   "source": [
    "### analysis of tweets"
   ]
  },
  {
   "cell_type": "code",
   "execution_count": 16,
   "metadata": {},
   "outputs": [
    {
     "name": "stdout",
     "output_type": "stream",
     "text": [
      "Original tweet:\n",
      " #farmersprotest \n",
      "By making these farmer's law Center govt clear that they can do everything which can be wrong or w… https://t.co/vBcdmjJDYU\n",
      "\n",
      "Clean tweet:\n",
      " farmersprotest By making these farmer s law Center govt clear that they can do everything which can be wrong or w\n",
      "\n",
      "Sentiment of the tweet:\n",
      " Negative\n"
     ]
    }
   ],
   "source": [
    "n = 2\n",
    "print(\"Original tweet:\\n\",df['Tweets'][n])\n",
    "print()\n",
    "print(\"Clean tweet:\\n\",df['clean_tweet'][n])\n",
    "print()\n",
    "print(\"Sentiment of the tweet:\\n\",df['Sentiment'][n])"
   ]
  },
  {
   "cell_type": "code",
   "execution_count": 17,
   "metadata": {},
   "outputs": [
    {
     "name": "stdout",
     "output_type": "stream",
     "text": [
      "Original tweet:\n",
      " RT @Aniket_4SSR: Thank You Narendra Modi Ji for exposing dirty politicians and theri nexus who keeps looting our Farmers with new Farmer's…\n",
      "\n",
      "Clean tweet:\n",
      " RT 4SSR Thank You Narendra Modi Ji for exposing dirty politicians and theri nexus who keeps looting our Farmers with new Farmer s\n",
      "\n",
      "Sentiment of the tweet:\n",
      " Negative\n"
     ]
    }
   ],
   "source": [
    "n = 20\n",
    "print(\"Original tweet:\\n\",df['Tweets'][n])\n",
    "print()\n",
    "print(\"Clean tweet:\\n\",df['clean_tweet'][n])\n",
    "print()\n",
    "print(\"Sentiment of the tweet:\\n\",df['Sentiment'][n])"
   ]
  },
  {
   "cell_type": "code",
   "execution_count": 18,
   "metadata": {
    "scrolled": true
   },
   "outputs": [
    {
     "name": "stdout",
     "output_type": "stream",
     "text": [
      "Original tweet:\n",
      " Farmers protesting in Delhi and all India should directly negotiate with Ambani and Adhani to take back the farmer'… https://t.co/Nb9vUyGi6M\n",
      "\n",
      "Clean tweet:\n",
      " Farmers protesting in Delhi and all India should directly negotiate with Ambani and Adhani to take back the farmer\n",
      "\n",
      "Sentiment of the tweet:\n",
      " Positive\n"
     ]
    }
   ],
   "source": [
    "n = 50\n",
    "print(\"Original tweet:\\n\",df['Tweets'][n])\n",
    "print()\n",
    "print(\"Clean tweet:\\n\",df['clean_tweet'][n])\n",
    "print()\n",
    "print(\"Sentiment of the tweet:\\n\",df['Sentiment'][n])"
   ]
  },
  {
   "cell_type": "code",
   "execution_count": 19,
   "metadata": {},
   "outputs": [
    {
     "data": {
      "text/plain": [
       "38"
      ]
     },
     "execution_count": 19,
     "metadata": {},
     "output_type": "execute_result"
    }
   ],
   "source": [
    "df[df.Sentiment == 'Positive'].shape[0]"
   ]
  },
  {
   "cell_type": "code",
   "execution_count": 20,
   "metadata": {},
   "outputs": [
    {
     "data": {
      "text/plain": [
       "169"
      ]
     },
     "execution_count": 20,
     "metadata": {},
     "output_type": "execute_result"
    }
   ],
   "source": [
    "df[df.Sentiment == 'Neutral'].shape[0]"
   ]
  },
  {
   "cell_type": "code",
   "execution_count": 21,
   "metadata": {},
   "outputs": [
    {
     "data": {
      "text/plain": [
       "17"
      ]
     },
     "execution_count": 21,
     "metadata": {},
     "output_type": "execute_result"
    }
   ],
   "source": [
    "df[df.Sentiment == 'Negative'].shape[0]"
   ]
  }
 ],
 "metadata": {
  "kernelspec": {
   "display_name": "Python 3",
   "language": "python",
   "name": "python3"
  },
  "language_info": {
   "codemirror_mode": {
    "name": "ipython",
    "version": 3
   },
   "file_extension": ".py",
   "mimetype": "text/x-python",
   "name": "python",
   "nbconvert_exporter": "python",
   "pygments_lexer": "ipython3",
   "version": "3.8.5"
  }
 },
 "nbformat": 4,
 "nbformat_minor": 4
}
